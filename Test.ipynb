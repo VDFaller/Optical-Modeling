{
 "cells": [
  {
   "cell_type": "code",
   "execution_count": 38,
   "metadata": {
    "collapsed": false
   },
   "outputs": [
    {
     "data": {
      "text/plain": [
       "{'Dielectric': ['BK7', 'Sapphire', 'SLG'],\n",
       " 'Metal': [],\n",
       " 'Other': [],\n",
       " 'Semiconductor': ['Air', 'CdSe', 'CdTe', 'TCO']}"
      ]
     },
     "execution_count": 38,
     "metadata": {},
     "output_type": "execute_result"
    }
   ],
   "source": [
    "import os\n",
    "from os.path import join, getsize\n",
    "pathdict = {}\n",
    "for d in os.listdir(\"C:/Writing Programs/Optical-Modeling/Materials/\"):\n",
    "    pathdict[d]=[]\n",
    "    for file in os.listdir(\"C:/Writing Programs/Optical-Modeling/Materials/\"+d):\n",
    "        split = os.path.splitext(file)\n",
    "        if split[1] == \".csv\":\n",
    "            pathdict[d].append(split[0])\n",
    "pathdict"
   ]
  },
  {
   "cell_type": "code",
   "execution_count": 21,
   "metadata": {
    "collapsed": false
   },
   "outputs": [
    {
     "data": {
      "text/plain": [
       "['BK7.csv', 'BK7.jmp', 'Sapphire.csv', 'SLG.csv', 'Soda-Lime Glass.jmp']"
      ]
     },
     "execution_count": 21,
     "metadata": {},
     "output_type": "execute_result"
    }
   ],
   "source": [
    "os.listdir(\"C:/Writing Programs/Optical-Modeling/Materials/Dielectric\")"
   ]
  },
  {
   "cell_type": "code",
   "execution_count": 33,
   "metadata": {
    "collapsed": false
   },
   "outputs": [
    {
     "data": {
      "text/plain": [
       "['fact']"
      ]
     },
     "execution_count": 33,
     "metadata": {},
     "output_type": "execute_result"
    }
   ],
   "source": [
    "x = []\n",
    "x.append(\"fact\")\n",
    "x"
   ]
  },
  {
   "cell_type": "code",
   "execution_count": null,
   "metadata": {
    "collapsed": true
   },
   "outputs": [],
   "source": []
  }
 ],
 "metadata": {
  "kernelspec": {
   "display_name": "Python 3",
   "language": "python",
   "name": "python3"
  },
  "language_info": {
   "codemirror_mode": {
    "name": "ipython",
    "version": 3
   },
   "file_extension": ".py",
   "mimetype": "text/x-python",
   "name": "python",
   "nbconvert_exporter": "python",
   "pygments_lexer": "ipython3",
   "version": "3.4.3"
  }
 },
 "nbformat": 4,
 "nbformat_minor": 0
}
