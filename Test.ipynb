{
 "cells": [
  {
   "cell_type": "code",
   "execution_count": 5,
   "metadata": {
    "collapsed": true
   },
   "outputs": [],
   "source": [
    "import numpy as np\n",
    "import pandas as pd\n",
    "from scipy.interpolate import interp1d"
   ]
  },
  {
   "cell_type": "code",
   "execution_count": 1,
   "metadata": {
    "collapsed": true
   },
   "outputs": [],
   "source": [
    "class Data:\n",
    "    def __init__(self, path, name, wavelengths, c_type):\n",
    "        f = pd.read_csv(path)\n",
    "        wv_raw = np.array(f.wv)\n",
    "        R = np.array(f.R)\n",
    "        self.name = name\n",
    "        self.df = pd.Series()\n",
    "        self.f = interp1d(wv_raw, R, kind='cubic')\n",
    "        self.min_wv = min(wv_raw)\n",
    "        self.max_wv = max(wv_raw)\n",
    "        self.df = pd.Series(data=R, index=wv_raw, name=name)\n",
    "        self.interp(wavelengths)\n",
    "        \n",
    "    def interp(self, wavelengths):\n",
    "        wavelengths = wavelengths[np.nonzero(np.logical_and(wavelengths > self.min_wv, wavelengths < self.max_wv))]\n",
    "        data = self.f(wavelengths)\n",
    "        self.df = pd.Series(data=data, index=wavelengths, name=self.name)\n",
    "    \n",
    "    def norm(self, wavelength):\n",
    "        df = self.df.ix[wavelength]\n",
    "        df = df - df.min()\n",
    "        df = df / df.max()\n",
    "        return df"
   ]
  },
  {
   "cell_type": "code",
   "execution_count": 62,
   "metadata": {
    "collapsed": false
   },
   "outputs": [],
   "source": [
    "data = Data('C:/WORK!!!!/VF088 - ARC Thickness/EKE-HC d.csv', 'Data', np.arange(300,1700), 'R')\n"
   ]
  },
  {
   "cell_type": "code",
   "execution_count": 44,
   "metadata": {
    "collapsed": false
   },
   "outputs": [
    {
     "name": "stdout",
     "output_type": "stream",
     "text": [
      "[ 0.62479731  0.62624661  0.62480601  0.62897326  0.6296635   0.62917771\n",
      "  0.62809776  0.6267937   0.62725939  0.62835453]\n"
     ]
    },
    {
     "data": {
      "text/plain": [
       "331    0.678040\n",
       "332    0.645101\n",
       "333    0.652057\n",
       "334    0.892480\n",
       "335    0.835449\n",
       "336    0.624655\n",
       "337    0.583661\n",
       "338    0.777643\n",
       "339    0.857572\n",
       "340    0.527690\n",
       "341    0.581022\n",
       "342    0.638365\n",
       "343    0.581022\n",
       "344    0.527690\n",
       "345    0.857572\n",
       "346    0.777643\n",
       "347    0.583661\n",
       "348    0.624655\n",
       "349    0.835449\n",
       "350    0.892480\n",
       "351    0.652057\n",
       "352    0.645101\n",
       "353    0.678040\n",
       "354    0.679424\n",
       "355    0.702101\n",
       "356    0.732835\n",
       "357    0.735163\n",
       "358    0.770052\n",
       "359    0.729046\n",
       "360    0.737625\n",
       "         ...   \n",
       "913    0.625646\n",
       "914    0.625465\n",
       "915    0.622660\n",
       "916    0.622779\n",
       "917    0.628249\n",
       "918    0.630314\n",
       "919    0.633398\n",
       "920    0.629746\n",
       "921    0.627813\n",
       "922    0.628355\n",
       "923    0.627259\n",
       "924    0.626794\n",
       "925    0.628098\n",
       "926    0.629178\n",
       "927    0.629664\n",
       "928    0.628973\n",
       "929    0.624806\n",
       "930    0.626247\n",
       "931    0.624797\n",
       "932    0.619225\n",
       "933    0.624797\n",
       "934    0.626247\n",
       "935    0.624806\n",
       "936    0.628973\n",
       "937    0.629664\n",
       "938    0.629178\n",
       "939    0.628098\n",
       "940    0.626794\n",
       "941    0.627259\n",
       "942    0.628355\n",
       "Name: Data, dtype: float64"
      ]
     },
     "execution_count": 44,
     "metadata": {},
     "output_type": "execute_result"
    }
   ],
   "source": [
    "z = 10\n",
    "power = 3\n",
    "deriv = 0\n",
    "\n",
    "df = data.df\n",
    "m = z*2+1\n",
    "\n",
    "mirror = np.array(df.loc[df.index.min()+1:df.index.min()+1+z])[::-1]\n",
    "pre = pd.Series(mirror, np.arange(df.index.min()-1-z, df.index.min()), name='Data')\n",
    "\n",
    "mirror = np.array(df.loc[df.index.max()-z:df.index.max()-1])[::-1]\n",
    "print(mirror)\n",
    "app = pd.Series(mirror, np.arange(df.index.max()+1, df.index.max()+1+z), name='Data')\n",
    "df = pd.concat([pre, df, app])"
   ]
  },
  {
   "cell_type": "code",
   "execution_count": 57,
   "metadata": {
    "collapsed": false
   },
   "outputs": [],
   "source": [
    "from matplotlib import pyplot as plt"
   ]
  },
  {
   "cell_type": "code",
   "execution_count": 66,
   "metadata": {
    "collapsed": false
   },
   "outputs": [],
   "source": [
    "arr = savitzky_golay(y=np.array(data.df), window_size=11, order=3, deriv=0, rate=1)\n",
    "df = pd.Series(arr, data.df.index, name=\"S-G smoothed\")\n",
    "#plt.plot(df.index, df)\n",
    "plt.plot(data.df.index, data.df)\n",
    "plt.show()"
   ]
  },
  {
   "cell_type": "code",
   "execution_count": null,
   "metadata": {
    "collapsed": false
   },
   "outputs": [],
   "source": [
    "data = np.arange(1, 26)\n",
    "index = np.arange(1, 6, .2).round(1)\n",
    "\n",
    "x = pd.DataFrame(np.array([data, index.astype(int)]).T, columns=['data', 'index'])\n",
    "x.mean(1)"
   ]
  },
  {
   "cell_type": "code",
   "execution_count": null,
   "metadata": {
    "collapsed": false
   },
   "outputs": [],
   "source": [
    "x = 3\n",
    "y = -4\n",
    "\n",
    "np.arctan(y/x)*180/np.pi"
   ]
  },
  {
   "cell_type": "code",
   "execution_count": null,
   "metadata": {
    "collapsed": true
   },
   "outputs": [],
   "source": []
  }
 ],
 "metadata": {
  "kernelspec": {
   "display_name": "Python 3",
   "language": "python",
   "name": "python3"
  },
  "language_info": {
   "codemirror_mode": {
    "name": "ipython",
    "version": 3
   },
   "file_extension": ".py",
   "mimetype": "text/x-python",
   "name": "python",
   "nbconvert_exporter": "python",
   "pygments_lexer": "ipython3",
   "version": "3.5.1"
  }
 },
 "nbformat": 4,
 "nbformat_minor": 0
}
