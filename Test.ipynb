{
 "cells": [
  {
   "cell_type": "code",
   "execution_count": 6,
   "metadata": {
    "collapsed": true
   },
   "outputs": [],
   "source": [
    "import numpy as np\n",
    "import pandas as pd\n",
    "from scipy.interpolate import interp1d\n",
    "import scipy as sp\n",
    "import tmm"
   ]
  },
  {
   "cell_type": "code",
   "execution_count": 8,
   "metadata": {
    "collapsed": true
   },
   "outputs": [],
   "source": [
    "class Material:\n",
    "    def __init__(self, path, name, wavelengths):\n",
    "        f = pd.read_csv(path)\n",
    "        wv_raw = np.array(f.wv)\n",
    "        nc = np.array(f.n+f.k*1j)  # complex refractive index\n",
    "        self.name = name\n",
    "        self.f = interp1d(wv_raw, nc, kind='cubic')\n",
    "        self.min_wv = min(wv_raw)\n",
    "        self.max_wv = max(wv_raw)\n",
    "        self.df = pd.Series(data=nc, index=wv_raw, name=name)\n",
    "        # self.df = self.df.reindex(wavelengths)\n",
    "        # self.df = self.df.interpolate('spline', order=3)\n",
    "        self.interp(wavelengths)\n",
    "\n",
    "    def interp(self, wavelengths):\n",
    "        wavelengths = wavelengths[np.nonzero(np.logical_and(wavelengths > self.min_wv, wavelengths < self.max_wv))]\n",
    "        nc = self.f(wavelengths)\n",
    "        self.df = pd.DataFrame(nc,wavelengths, [self.name])"
   ]
  },
  {
   "cell_type": "code",
   "execution_count": 4,
   "metadata": {
    "collapsed": false
   },
   "outputs": [],
   "source": [
    "class Model:\n",
    "    def __init__(self):\n",
    "        self.wavelength = np.arange(300, 1700, 1)\n",
    "        self.increment = .2\n",
    "        self.index_array = np.array([])\n",
    "        self.materials = []\n",
    "        self.mat_df = pd.DataFrame([], self.wavelength)\n",
    "        self.data = {}\n",
    "        self.thicknesses = [sp.inf, 0, sp.inf]\n",
    "        self.layers = []\n",
    "\n",
    "        self.add_material(\"TCO\", './Materials/Semiconductor/TCO.csv')\n",
    "        self.add_material(\"CdSe\", './Materials/Semiconductor/CdSe.csv')\n",
    "        self.add_material(\"CdTe\", './Materials/Semiconductor/CdTe.csv')\n",
    "        self.add_material(\"Air\", './Materials/Semiconductor/Air.csv')\n",
    "        self.add_material(\"BK7\", './Materials/Dielectric/BK7.csv')\n",
    "        self.add_material(\"SLG\", './Materials/Dielectric/SLG.csv')\n",
    "        self.add_material(\"SS TCO\", './Materials/Dielectric/Sunnyside TCO.csv')\n",
    "        self.add_material(\"SiO2\", './Materials/Dielectric/SiO2-Jaw.csv')\n",
    "        \n",
    "    def add_material(self, film, path):\n",
    "        if film not in self.mat_df:\n",
    "            mat = Material(path, film, self.wavelength)\n",
    "            self.materials.append(mat)\n",
    "            self.mat_df = self.mat_df.join(mat.df)\n",
    "\n",
    "    def set_wavelength(self, low, high, interval):\n",
    "        self.wavelength = np.arange(low, high, interval)\n",
    "        df = self.mat_df.reindex(self.wavelength)\n",
    "        df = df.interpolate('spline', order=3)\n",
    "        self.mat_df = df\n",
    "\n",
    "    def better_bruggeman(self, n1, n2, percent_included):\n",
    "        p = n1/n2\n",
    "        b = .25*((3*percent_included-1)*(1/p-p)+p)\n",
    "        z = b + (b**2 + .5)**0.5\n",
    "        e = z*n1*n2\n",
    "        return {\"e\": e, \"n\": e**0.5, 'conc': percent_included, \"n1\": n1, 'n2': n2}\n",
    "\n",
    "    def brug_transform(self, df, layer, incl, percent):\n",
    "        p = df[layer]/incl\n",
    "        b = .25*((3*percent-1)*(1/p-p)+p)\n",
    "        z = b + (b**2 + .5)**0.5\n",
    "        e = z*df[layer]*incl\n",
    "        n = e**.5\n",
    "        df[layer] = n\n",
    "    \n",
    "    def run(self, wavelengths, void_percent):\n",
    "        mat = self.mat_df.ix[wavelengths]\n",
    "        mat = mat[self.layers]\n",
    "        self.brug_transform(mat, self.layers[1], mat['Air'], void_percent)\n",
    "        self.index_array = np.array(mat)\n",
    "        theta0 = 45*sp.pi/180\n",
    "        self.data = tmm.unpolarized_RT(self.index_array, self.thicknesses, theta0, wavelengths)\n",
    "        \n",
    "    def normalized(a, axis=-1, order=2):\n",
    "        l2 = np.atleast_1d(np.linalg.norm(a, order, axis))\n",
    "        l2[l2==0] = 1\n",
    "        return a / np.expand_dims(l2, axis)\n",
    "    \n",
    "    def get_R(self, wavelengths, thickness, void_percent):\n",
    "        self.thicknesses[1] = thickness\n",
    "        self.run(wavelengths, void_percent) \n",
    "        R = self.data['R']\n",
    "        R -= min(R)\n",
    "        R /= max(R)\n",
    "        return R\n",
    "        \n",
    "    def RMSE(self, thickness, data):\n",
    "        df = pd.DataFrame(data)\n",
    "        self.get_R(thickness)\n",
    "        model = pd.DataFrame(self.data['R'], index=self.wavelength)\n",
    "        df = df.join(model, how='inner')\n",
    "        n = len(df.index)\n",
    "        return (sum((data-model)**2)/n)**0.5\n",
    "    \n",
    "    def norm(self, wavelength):\n",
    "        df = self.df.ix[wavelength]\n",
    "        df = df - df.min()\n",
    "        df = df / df.max()\n",
    "        return df\n",
    "    \n",
    "    def fit(self, wv, data):\n",
    "        mod = lmfit.Model(self.get_R, ['wavelengths'], ['thickness','void_percent'])\n",
    "        mod.set_param_hint('thickness', value = 120, min=50, max=250)\n",
    "        mod.set_param_hint('void_percent', value = .15, min=0, max=1)\n",
    "        \n",
    "        weight = np.array(data.weight.ix[wv])\n",
    "        R = data.series.ix[wv]\n",
    "        result = mod.fit(R, wavelengths=wv, weights=weight)\n",
    "        \n",
    "        RMSE = (sp.sum(result.residual**2)/(result.residual.size-2))**0.5\n",
    "        bf_values = result.best_values\n",
    "        bf_str = 'thk: ' + str(round(bf_values['thickness'])) +\", Void %: \" + str(round(bf_values['void_percent']*100, 2))\n",
    "        txt_spot = wv.min()-200 + (wv.max()-wv.min()) / 2\n",
    "\n",
    "        fig = plt.figure()\n",
    "        ax = fig.add_subplot(111)\n",
    "        ax.text(txt_spot, .9, \"RMSE: \"+str(round(RMSE, 3)))\n",
    "        ax.text(txt_spot, .85, bf_str)\n",
    "        result.plot_fit(yerr=np.zeros(len(data.series.index)), data_kws ={'marker':'+'})\n",
    "\n",
    "        plt.show()\n",
    "        print(result.fit_report())"
   ]
  },
  {
   "cell_type": "code",
   "execution_count": 9,
   "metadata": {
    "collapsed": false
   },
   "outputs": [],
   "source": [
    "model = Model()"
   ]
  },
  {
   "cell_type": "code",
   "execution_count": 26,
   "metadata": {
    "collapsed": true
   },
   "outputs": [],
   "source": [
    "def unpolarized_R(n_list, d_list, th_0, lam_vac):\n",
    "    \"\"\"\n",
    "    Calculates reflected and transmitted power for unpolarized light.\n",
    "    \"\"\"\n",
    "\n",
    "    s_data = tmm.coh_tmm('s',n_list, d_list, th_0, lam_vac)\n",
    "    p_data = tmm.coh_tmm('p',n_list, d_list, th_0, lam_vac)\n",
    "    R = (s_data['R'] + p_data['R']) / 2.\n",
    "    return R"
   ]
  },
  {
   "cell_type": "code",
   "execution_count": 29,
   "metadata": {
    "collapsed": false
   },
   "outputs": [],
   "source": [
    "mat = model.mat_df[['Air', 'SiO2', 'TCO']]\n",
    "d_list = [sp.inf, 120, sp.inf]\n",
    "theta = 55*sp.pi/180\n",
    "s = pd.Series(name='R')\n",
    "for i in mat.index:\n",
    "    index_array = np.array(mat.loc[i])\n",
    "    r = unpolarized_R(index_array, d_list, theta, i)\n",
    "    s = s.set_value(i, r)\n"
   ]
  },
  {
   "cell_type": "code",
   "execution_count": 30,
   "metadata": {
    "collapsed": true
   },
   "outputs": [],
   "source": [
    "from matplotlib import pyplot as plt\n",
    "plt.plot(s.index, s)\n",
    "plt.show()"
   ]
  },
  {
   "cell_type": "code",
   "execution_count": 28,
   "metadata": {
    "collapsed": false
   },
   "outputs": [
    {
     "ename": "ValueError",
     "evalue": "('This function is not vectorized; you need to run one calculation at a time (1 wavelength, 1 angle, etc.)', 'occurred at index 300')",
     "output_type": "error",
     "traceback": [
      "\u001b[1;31m---------------------------------------------------------------------------\u001b[0m",
      "\u001b[1;31mValueError\u001b[0m                                Traceback (most recent call last)",
      "\u001b[1;32m<ipython-input-28-614bc09e0ecd>\u001b[0m in \u001b[0;36m<module>\u001b[1;34m()\u001b[0m\n\u001b[0;32m      2\u001b[0m \u001b[0md_list\u001b[0m \u001b[1;33m=\u001b[0m \u001b[1;33m[\u001b[0m\u001b[0msp\u001b[0m\u001b[1;33m.\u001b[0m\u001b[0minf\u001b[0m\u001b[1;33m,\u001b[0m \u001b[1;36m120\u001b[0m\u001b[1;33m,\u001b[0m \u001b[0msp\u001b[0m\u001b[1;33m.\u001b[0m\u001b[0minf\u001b[0m\u001b[1;33m]\u001b[0m\u001b[1;33m\u001b[0m\u001b[0m\n\u001b[0;32m      3\u001b[0m \u001b[0mtheta\u001b[0m \u001b[1;33m=\u001b[0m \u001b[1;36m55\u001b[0m\u001b[1;33m*\u001b[0m\u001b[0msp\u001b[0m\u001b[1;33m.\u001b[0m\u001b[0mpi\u001b[0m\u001b[1;33m/\u001b[0m\u001b[1;36m180\u001b[0m\u001b[1;33m\u001b[0m\u001b[0m\n\u001b[1;32m----> 4\u001b[1;33m \u001b[0mmat\u001b[0m\u001b[1;33m.\u001b[0m\u001b[0mapply\u001b[0m\u001b[1;33m(\u001b[0m\u001b[0munpolarized_R\u001b[0m\u001b[1;33m,\u001b[0m \u001b[0maxis\u001b[0m\u001b[1;33m=\u001b[0m\u001b[1;36m1\u001b[0m\u001b[1;33m,\u001b[0m \u001b[0margs\u001b[0m\u001b[1;33m=\u001b[0m\u001b[1;33m(\u001b[0m\u001b[0md_list\u001b[0m\u001b[1;33m,\u001b[0m \u001b[0mtheta\u001b[0m\u001b[1;33m,\u001b[0m \u001b[0mmat\u001b[0m\u001b[1;33m.\u001b[0m\u001b[0mindex\u001b[0m\u001b[1;33m)\u001b[0m\u001b[1;33m)\u001b[0m\u001b[1;33m\u001b[0m\u001b[0m\n\u001b[0m",
      "\u001b[1;32mC:\\Anaconda3\\envs\\python34\\lib\\site-packages\\pandas\\core\\frame.py\u001b[0m in \u001b[0;36mapply\u001b[1;34m(self, func, axis, broadcast, raw, reduce, args, **kwds)\u001b[0m\n\u001b[0;32m   3970\u001b[0m                     \u001b[1;32mif\u001b[0m \u001b[0mreduce\u001b[0m \u001b[1;32mis\u001b[0m \u001b[1;32mNone\u001b[0m\u001b[1;33m:\u001b[0m\u001b[1;33m\u001b[0m\u001b[0m\n\u001b[0;32m   3971\u001b[0m                         \u001b[0mreduce\u001b[0m \u001b[1;33m=\u001b[0m \u001b[1;32mTrue\u001b[0m\u001b[1;33m\u001b[0m\u001b[0m\n\u001b[1;32m-> 3972\u001b[1;33m                     \u001b[1;32mreturn\u001b[0m \u001b[0mself\u001b[0m\u001b[1;33m.\u001b[0m\u001b[0m_apply_standard\u001b[0m\u001b[1;33m(\u001b[0m\u001b[0mf\u001b[0m\u001b[1;33m,\u001b[0m \u001b[0maxis\u001b[0m\u001b[1;33m,\u001b[0m \u001b[0mreduce\u001b[0m\u001b[1;33m=\u001b[0m\u001b[0mreduce\u001b[0m\u001b[1;33m)\u001b[0m\u001b[1;33m\u001b[0m\u001b[0m\n\u001b[0m\u001b[0;32m   3973\u001b[0m             \u001b[1;32melse\u001b[0m\u001b[1;33m:\u001b[0m\u001b[1;33m\u001b[0m\u001b[0m\n\u001b[0;32m   3974\u001b[0m                 \u001b[1;32mreturn\u001b[0m \u001b[0mself\u001b[0m\u001b[1;33m.\u001b[0m\u001b[0m_apply_broadcast\u001b[0m\u001b[1;33m(\u001b[0m\u001b[0mf\u001b[0m\u001b[1;33m,\u001b[0m \u001b[0maxis\u001b[0m\u001b[1;33m)\u001b[0m\u001b[1;33m\u001b[0m\u001b[0m\n",
      "\u001b[1;32mC:\\Anaconda3\\envs\\python34\\lib\\site-packages\\pandas\\core\\frame.py\u001b[0m in \u001b[0;36m_apply_standard\u001b[1;34m(self, func, axis, ignore_failures, reduce)\u001b[0m\n\u001b[0;32m   4062\u001b[0m             \u001b[1;32mtry\u001b[0m\u001b[1;33m:\u001b[0m\u001b[1;33m\u001b[0m\u001b[0m\n\u001b[0;32m   4063\u001b[0m                 \u001b[1;32mfor\u001b[0m \u001b[0mi\u001b[0m\u001b[1;33m,\u001b[0m \u001b[0mv\u001b[0m \u001b[1;32min\u001b[0m \u001b[0menumerate\u001b[0m\u001b[1;33m(\u001b[0m\u001b[0mseries_gen\u001b[0m\u001b[1;33m)\u001b[0m\u001b[1;33m:\u001b[0m\u001b[1;33m\u001b[0m\u001b[0m\n\u001b[1;32m-> 4064\u001b[1;33m                     \u001b[0mresults\u001b[0m\u001b[1;33m[\u001b[0m\u001b[0mi\u001b[0m\u001b[1;33m]\u001b[0m \u001b[1;33m=\u001b[0m \u001b[0mfunc\u001b[0m\u001b[1;33m(\u001b[0m\u001b[0mv\u001b[0m\u001b[1;33m)\u001b[0m\u001b[1;33m\u001b[0m\u001b[0m\n\u001b[0m\u001b[0;32m   4065\u001b[0m                     \u001b[0mkeys\u001b[0m\u001b[1;33m.\u001b[0m\u001b[0mappend\u001b[0m\u001b[1;33m(\u001b[0m\u001b[0mv\u001b[0m\u001b[1;33m.\u001b[0m\u001b[0mname\u001b[0m\u001b[1;33m)\u001b[0m\u001b[1;33m\u001b[0m\u001b[0m\n\u001b[0;32m   4066\u001b[0m             \u001b[1;32mexcept\u001b[0m \u001b[0mException\u001b[0m \u001b[1;32mas\u001b[0m \u001b[0me\u001b[0m\u001b[1;33m:\u001b[0m\u001b[1;33m\u001b[0m\u001b[0m\n",
      "\u001b[1;32mC:\\Anaconda3\\envs\\python34\\lib\\site-packages\\pandas\\core\\frame.py\u001b[0m in \u001b[0;36m<lambda>\u001b[1;34m(x)\u001b[0m\n\u001b[0;32m   3948\u001b[0m         \u001b[0maxis\u001b[0m \u001b[1;33m=\u001b[0m \u001b[0mself\u001b[0m\u001b[1;33m.\u001b[0m\u001b[0m_get_axis_number\u001b[0m\u001b[1;33m(\u001b[0m\u001b[0maxis\u001b[0m\u001b[1;33m)\u001b[0m\u001b[1;33m\u001b[0m\u001b[0m\n\u001b[0;32m   3949\u001b[0m         \u001b[1;32mif\u001b[0m \u001b[0mkwds\u001b[0m \u001b[1;32mor\u001b[0m \u001b[0margs\u001b[0m \u001b[1;32mand\u001b[0m \u001b[1;32mnot\u001b[0m \u001b[0misinstance\u001b[0m\u001b[1;33m(\u001b[0m\u001b[0mfunc\u001b[0m\u001b[1;33m,\u001b[0m \u001b[0mnp\u001b[0m\u001b[1;33m.\u001b[0m\u001b[0mufunc\u001b[0m\u001b[1;33m)\u001b[0m\u001b[1;33m:\u001b[0m\u001b[1;33m\u001b[0m\u001b[0m\n\u001b[1;32m-> 3950\u001b[1;33m             \u001b[0mf\u001b[0m \u001b[1;33m=\u001b[0m \u001b[1;32mlambda\u001b[0m \u001b[0mx\u001b[0m\u001b[1;33m:\u001b[0m \u001b[0mfunc\u001b[0m\u001b[1;33m(\u001b[0m\u001b[0mx\u001b[0m\u001b[1;33m,\u001b[0m \u001b[1;33m*\u001b[0m\u001b[0margs\u001b[0m\u001b[1;33m,\u001b[0m \u001b[1;33m**\u001b[0m\u001b[0mkwds\u001b[0m\u001b[1;33m)\u001b[0m\u001b[1;33m\u001b[0m\u001b[0m\n\u001b[0m\u001b[0;32m   3951\u001b[0m         \u001b[1;32melse\u001b[0m\u001b[1;33m:\u001b[0m\u001b[1;33m\u001b[0m\u001b[0m\n\u001b[0;32m   3952\u001b[0m             \u001b[0mf\u001b[0m \u001b[1;33m=\u001b[0m \u001b[0mfunc\u001b[0m\u001b[1;33m\u001b[0m\u001b[0m\n",
      "\u001b[1;32m<ipython-input-26-3aca774f757a>\u001b[0m in \u001b[0;36munpolarized_R\u001b[1;34m(n_list, d_list, th_0, lam_vac)\u001b[0m\n\u001b[0;32m      4\u001b[0m     \"\"\"\n\u001b[0;32m      5\u001b[0m \u001b[1;33m\u001b[0m\u001b[0m\n\u001b[1;32m----> 6\u001b[1;33m     \u001b[0ms_data\u001b[0m \u001b[1;33m=\u001b[0m \u001b[0mtmm\u001b[0m\u001b[1;33m.\u001b[0m\u001b[0mcoh_tmm\u001b[0m\u001b[1;33m(\u001b[0m\u001b[1;34m's'\u001b[0m\u001b[1;33m,\u001b[0m\u001b[0mn_list\u001b[0m\u001b[1;33m,\u001b[0m \u001b[0md_list\u001b[0m\u001b[1;33m,\u001b[0m \u001b[0mth_0\u001b[0m\u001b[1;33m,\u001b[0m \u001b[0mlam_vac\u001b[0m\u001b[1;33m)\u001b[0m\u001b[1;33m\u001b[0m\u001b[0m\n\u001b[0m\u001b[0;32m      7\u001b[0m     \u001b[0mp_data\u001b[0m \u001b[1;33m=\u001b[0m \u001b[0mtmm\u001b[0m\u001b[1;33m.\u001b[0m\u001b[0mcoh_tmm\u001b[0m\u001b[1;33m(\u001b[0m\u001b[1;34m'p'\u001b[0m\u001b[1;33m,\u001b[0m\u001b[0mn_list\u001b[0m\u001b[1;33m,\u001b[0m \u001b[0md_list\u001b[0m\u001b[1;33m,\u001b[0m \u001b[0mth_0\u001b[0m\u001b[1;33m,\u001b[0m \u001b[0mlam_vac\u001b[0m\u001b[1;33m)\u001b[0m\u001b[1;33m\u001b[0m\u001b[0m\n\u001b[0;32m      8\u001b[0m     \u001b[0mR\u001b[0m \u001b[1;33m=\u001b[0m \u001b[1;33m(\u001b[0m\u001b[0ms_data\u001b[0m\u001b[1;33m[\u001b[0m\u001b[1;34m'R'\u001b[0m\u001b[1;33m]\u001b[0m \u001b[1;33m+\u001b[0m \u001b[0mp_data\u001b[0m\u001b[1;33m[\u001b[0m\u001b[1;34m'R'\u001b[0m\u001b[1;33m]\u001b[0m\u001b[1;33m)\u001b[0m \u001b[1;33m/\u001b[0m \u001b[1;36m2.\u001b[0m\u001b[1;33m\u001b[0m\u001b[0m\n",
      "\u001b[1;32mC:\\Anaconda3\\envs\\python34\\lib\\site-packages\\tmm\\tmm_core.py\u001b[0m in \u001b[0;36mcoh_tmm\u001b[1;34m(pol, n_list, d_list, th_0, lam_vac)\u001b[0m\n\u001b[0;32m    213\u001b[0m     if ((hasattr(lam_vac, 'size') and lam_vac.size > 1)\n\u001b[0;32m    214\u001b[0m           or (hasattr(th_0, 'size') and th_0.size > 1)):\n\u001b[1;32m--> 215\u001b[1;33m         raise ValueError('This function is not vectorized; you need to run one '\n\u001b[0m\u001b[0;32m    216\u001b[0m                          'calculation at a time (1 wavelength, 1 angle, etc.)')\n\u001b[0;32m    217\u001b[0m     \u001b[1;32mif\u001b[0m \u001b[1;33m(\u001b[0m\u001b[0mn_list\u001b[0m\u001b[1;33m.\u001b[0m\u001b[0mndim\u001b[0m \u001b[1;33m!=\u001b[0m \u001b[1;36m1\u001b[0m\u001b[1;33m)\u001b[0m \u001b[1;32mor\u001b[0m \u001b[1;33m(\u001b[0m\u001b[0md_list\u001b[0m\u001b[1;33m.\u001b[0m\u001b[0mndim\u001b[0m \u001b[1;33m!=\u001b[0m \u001b[1;36m1\u001b[0m\u001b[1;33m)\u001b[0m \u001b[1;32mor\u001b[0m \u001b[1;33m(\u001b[0m\u001b[0mn_list\u001b[0m\u001b[1;33m.\u001b[0m\u001b[0msize\u001b[0m \u001b[1;33m!=\u001b[0m \u001b[0md_list\u001b[0m\u001b[1;33m.\u001b[0m\u001b[0msize\u001b[0m\u001b[1;33m)\u001b[0m\u001b[1;33m:\u001b[0m\u001b[1;33m\u001b[0m\u001b[0m\n",
      "\u001b[1;31mValueError\u001b[0m: ('This function is not vectorized; you need to run one calculation at a time (1 wavelength, 1 angle, etc.)', 'occurred at index 300')"
     ]
    }
   ],
   "source": [
    "mat = model.mat_df[['Air', 'SiO2', 'TCO']]\n",
    "d_list = [sp.inf, 120, sp.inf]\n",
    "theta = 55*sp.pi/180\n",
    "mat.apply(unpolarized_R, axis=1, args=(d_list, theta, mat.index))"
   ]
  },
  {
   "cell_type": "code",
   "execution_count": 62,
   "metadata": {
    "collapsed": false
   },
   "outputs": [],
   "source": [
    "data = Data('C:/WORK!!!!/VF088 - ARC Thickness/EKE-HC d.csv', 'Data', np.arange(300,1700), 'R')\n"
   ]
  },
  {
   "cell_type": "code",
   "execution_count": 44,
   "metadata": {
    "collapsed": false
   },
   "outputs": [
    {
     "name": "stdout",
     "output_type": "stream",
     "text": [
      "[ 0.62479731  0.62624661  0.62480601  0.62897326  0.6296635   0.62917771\n",
      "  0.62809776  0.6267937   0.62725939  0.62835453]\n"
     ]
    },
    {
     "data": {
      "text/plain": [
       "331    0.678040\n",
       "332    0.645101\n",
       "333    0.652057\n",
       "334    0.892480\n",
       "335    0.835449\n",
       "336    0.624655\n",
       "337    0.583661\n",
       "338    0.777643\n",
       "339    0.857572\n",
       "340    0.527690\n",
       "341    0.581022\n",
       "342    0.638365\n",
       "343    0.581022\n",
       "344    0.527690\n",
       "345    0.857572\n",
       "346    0.777643\n",
       "347    0.583661\n",
       "348    0.624655\n",
       "349    0.835449\n",
       "350    0.892480\n",
       "351    0.652057\n",
       "352    0.645101\n",
       "353    0.678040\n",
       "354    0.679424\n",
       "355    0.702101\n",
       "356    0.732835\n",
       "357    0.735163\n",
       "358    0.770052\n",
       "359    0.729046\n",
       "360    0.737625\n",
       "         ...   \n",
       "913    0.625646\n",
       "914    0.625465\n",
       "915    0.622660\n",
       "916    0.622779\n",
       "917    0.628249\n",
       "918    0.630314\n",
       "919    0.633398\n",
       "920    0.629746\n",
       "921    0.627813\n",
       "922    0.628355\n",
       "923    0.627259\n",
       "924    0.626794\n",
       "925    0.628098\n",
       "926    0.629178\n",
       "927    0.629664\n",
       "928    0.628973\n",
       "929    0.624806\n",
       "930    0.626247\n",
       "931    0.624797\n",
       "932    0.619225\n",
       "933    0.624797\n",
       "934    0.626247\n",
       "935    0.624806\n",
       "936    0.628973\n",
       "937    0.629664\n",
       "938    0.629178\n",
       "939    0.628098\n",
       "940    0.626794\n",
       "941    0.627259\n",
       "942    0.628355\n",
       "Name: Data, dtype: float64"
      ]
     },
     "execution_count": 44,
     "metadata": {},
     "output_type": "execute_result"
    }
   ],
   "source": [
    "z = 10\n",
    "power = 3\n",
    "deriv = 0\n",
    "\n",
    "df = data.df\n",
    "m = z*2+1\n",
    "\n",
    "mirror = np.array(df.loc[df.index.min()+1:df.index.min()+1+z])[::-1]\n",
    "pre = pd.Series(mirror, np.arange(df.index.min()-1-z, df.index.min()), name='Data')\n",
    "\n",
    "mirror = np.array(df.loc[df.index.max()-z:df.index.max()-1])[::-1]\n",
    "print(mirror)\n",
    "app = pd.Series(mirror, np.arange(df.index.max()+1, df.index.max()+1+z), name='Data')\n",
    "df = pd.concat([pre, df, app])"
   ]
  },
  {
   "cell_type": "code",
   "execution_count": 57,
   "metadata": {
    "collapsed": false
   },
   "outputs": [],
   "source": [
    "from matplotlib import pyplot as plt"
   ]
  },
  {
   "cell_type": "code",
   "execution_count": 66,
   "metadata": {
    "collapsed": false
   },
   "outputs": [],
   "source": [
    "d = "
   ]
  },
  {
   "cell_type": "code",
   "execution_count": null,
   "metadata": {
    "collapsed": false
   },
   "outputs": [],
   "source": [
    "data = np.arange(1, 26)\n",
    "index = np.arange(1, 6, .2).round(1)\n",
    "\n",
    "x = pd.DataFrame(np.array([data, index.astype(int)]).T, columns=['data', 'index'])\n",
    "x.mean(1)"
   ]
  },
  {
   "cell_type": "code",
   "execution_count": null,
   "metadata": {
    "collapsed": false
   },
   "outputs": [],
   "source": [
    "x = 3\n",
    "y = -4\n",
    "\n",
    "np.arctan(y/x)*180/np.pi"
   ]
  },
  {
   "cell_type": "code",
   "execution_count": 34,
   "metadata": {
    "collapsed": true
   },
   "outputs": [],
   "source": [
    "a = np.arange(6).reshape(2,3)\n",
    "b = np.arange(6,12).reshape(2,3)\n",
    "c = np.arange(12,18).reshape(2,3)\n",
    "d = np.arange(18,24).reshape(2,3)\n",
    "x = np.array([[a, b], [c, d]])"
   ]
  },
  {
   "cell_type": "code",
   "execution_count": 38,
   "metadata": {
    "collapsed": false
   },
   "outputs": [
    {
     "data": {
      "text/plain": [
       "array([[[[ 0,  1],\n",
       "         [ 2,  3]],\n",
       "\n",
       "        [[ 4,  5],\n",
       "         [ 6,  7]],\n",
       "\n",
       "        [[ 8,  9],\n",
       "         [10, 11]]],\n",
       "\n",
       "\n",
       "       [[[12, 13],\n",
       "         [14, 15]],\n",
       "\n",
       "        [[16, 17],\n",
       "         [18, 19]],\n",
       "\n",
       "        [[20, 21],\n",
       "         [22, 23]]]])"
      ]
     },
     "execution_count": 38,
     "metadata": {},
     "output_type": "execute_result"
    }
   ],
   "source": [
    "np.array([[a, b], [c, d]])"
   ]
  },
  {
   "cell_type": "code",
   "execution_count": 54,
   "metadata": {
    "collapsed": false
   },
   "outputs": [
    {
     "data": {
      "text/plain": [
       "0      0\n",
       "1      5\n",
       "2     18\n",
       "3     39\n",
       "4     68\n",
       "5    105\n",
       "6    150\n",
       "7    203\n",
       "dtype: int64"
      ]
     },
     "execution_count": 54,
     "metadata": {},
     "output_type": "execute_result"
    }
   ],
   "source": [
    "def pretend(np_array):\n",
    "    return sum(np_array)*np_array.name\n",
    "\n",
    "df = pd.DataFrame(np.arange(16).reshape(8,2))\n",
    "answer = df.apply(pretend,axis=1)\n",
    "answer"
   ]
  },
  {
   "cell_type": "code",
   "execution_count": null,
   "metadata": {
    "collapsed": true
   },
   "outputs": [],
   "source": []
  }
 ],
 "metadata": {
  "kernelspec": {
   "display_name": "Python 3",
   "language": "python",
   "name": "python3"
  },
  "language_info": {
   "codemirror_mode": {
    "name": "ipython",
    "version": 3
   },
   "file_extension": ".py",
   "mimetype": "text/x-python",
   "name": "python",
   "nbconvert_exporter": "python",
   "pygments_lexer": "ipython3",
   "version": "3.4.3"
  }
 },
 "nbformat": 4,
 "nbformat_minor": 0
}
