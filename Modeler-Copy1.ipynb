{
 "cells": [
  {
   "cell_type": "code",
   "execution_count": 1,
   "metadata": {
    "collapsed": false,
    "scrolled": true
   },
   "outputs": [],
   "source": [
    "import pandas as pd\n",
    "import numpy as np\n",
    "import scipy as sp\n",
    "from scipy.interpolate import interp1d\n",
    "import scipy.optimize as so\n",
    "import tmm_core as tmm\n",
    "import lmfit\n",
    "from matplotlib import pyplot as plt"
   ]
  },
  {
   "cell_type": "code",
   "execution_count": 2,
   "metadata": {
    "collapsed": false
   },
   "outputs": [],
   "source": [
    "class Material:\n",
    "    def __init__(self, path, name, wavelengths):\n",
    "        f = pd.read_csv(path)\n",
    "        wv_raw = np.array(f.wv)\n",
    "        nc = np.array(f.n+f.k*1j)  # complex refractive index\n",
    "        self.name = name\n",
    "        self.f = interp1d(wv_raw, nc, kind='cubic')\n",
    "        self.min_wv = min(wv_raw)\n",
    "        self.max_wv = max(wv_raw)\n",
    "        self.df = pd.Series(data=nc, index=wv_raw, name=name)\n",
    "        # self.df = self.df.reindex(wavelengths)\n",
    "        # self.df = self.df.interpolate('spline', order=3)\n",
    "        self.interp(wavelengths)\n",
    "\n",
    "    def interp(self, wavelengths):\n",
    "        wavelengths = wavelengths[np.nonzero(np.logical_and(wavelengths > self.min_wv, wavelengths < self.max_wv))]\n",
    "        nc = self.f(wavelengths)\n",
    "        self.df = pd.DataFrame(nc,wavelengths, [self.name])\n"
   ]
  },
  {
   "cell_type": "code",
   "execution_count": 3,
   "metadata": {
    "collapsed": true
   },
   "outputs": [],
   "source": [
    "class Model:\n",
    "    def __init__(self):\n",
    "        self.wavelength = np.arange(300, 1700, 1)\n",
    "        self.increment = .2\n",
    "        self.index_array = np.array([])\n",
    "        self.materials = []\n",
    "        self.mat_df = pd.DataFrame([], self.wavelength)\n",
    "        self.data = {}\n",
    "        self.layers = []\n",
    "        self.thicknesses = [sp.inf, 0, sp.inf]\n",
    "\n",
    "        self.add_material(\"TCO\", './Materials/Semiconductor/TCO.csv')\n",
    "        self.add_material(\"CdSe\", './Materials/Semiconductor/CdSe.csv')\n",
    "        self.add_material(\"CdTe\", './Materials/Semiconductor/CdTe.csv')\n",
    "        self.add_material(\"Air\", './Materials/Semiconductor/Air.csv')\n",
    "        self.add_material(\"BK7\", './Materials/Dielectric/BK7.csv')\n",
    "        self.add_material(\"SLG\", './Materials/Dielectric/SLG.csv')\n",
    "        self.add_material(\"SS TCO\", './Materials/Dielectric/Sunnyside TCO.csv')\n",
    "        self.add_material(\"SiO2\", './Materials/Dielectric/SiO2-Jaw.csv')\n",
    "        \n",
    "    def add_material(self, film, path):\n",
    "        if film not in self.mat_df:\n",
    "            mat = Material(path, film, self.wavelength)\n",
    "            self.materials.append(mat)\n",
    "            self.mat_df = self.mat_df.join(mat.df)\n",
    "\n",
    "    def set_wavelength(self, low, high, interval):\n",
    "        self.wavelength = np.arange(low, high, interval)\n",
    "        df = self.mat_df.reindex(self.wavelength)\n",
    "        df = df.interpolate('spline', order=3)\n",
    "        self.mat_df = df\n",
    "\n",
    "    def better_bruggeman(self, n1, n2, percent_included):\n",
    "        p = n1/n2\n",
    "        b = .25*((3*percent_included-1)*(1/p-p)+p)\n",
    "        z = b + (b**2 + .5)**0.5\n",
    "        e = z*n1*n2\n",
    "        return {\"e\": e, \"n\": e**0.5, 'conc': percent_included, \"n1\": n1, 'n2': n2}\n",
    "\n",
    "    def brug_transform(self, df, layer, incl, percent):\n",
    "        p = df[layer]/incl\n",
    "        b = .25*((3*percent-1)*(1/p-p)+p)\n",
    "        z = b + (b**2 + .5)**0.5\n",
    "        e = z*df[layer]*incl\n",
    "        n = e**.5\n",
    "        df[layer] = n\n",
    "    \n",
    "    def run(self, wavelengths, void_percent):\n",
    "        mat = self.mat_df.ix[wavelengths]\n",
    "        mat = mat[self.layers]\n",
    "        self.brug_transform(mat, self.layers[1], mat['Air'], void_percent)\n",
    "        self.index_array = np.array(mat)\n",
    "        theta0 = 45*sp.pi/180\n",
    "        self.data = tmm.unpolarized_RT(self.index_array, self.thicknesses, theta0, wavelengths)\n",
    "        \n",
    "    def normalized(a, axis=-1, order=2):\n",
    "        l2 = np.atleast_1d(np.linalg.norm(a, order, axis))\n",
    "        l2[l2==0] = 1\n",
    "        return a / np.expand_dims(l2, axis)\n",
    "    \n",
    "    def get_R(self, wavelengths, thickness, void_percent):\n",
    "        self.thicknesses[1] = thickness\n",
    "        self.run(wavelengths, void_percent) \n",
    "        R = self.data['R']\n",
    "        R -= min(R)\n",
    "        R /= max(R)\n",
    "        return R\n",
    "        \n",
    "    def RMSE(self, thickness, data):\n",
    "        df = pd.DataFrame(data)\n",
    "        self.get_R(thickness)\n",
    "        model = pd.DataFrame(self.data['R'], index=self.wavelength)\n",
    "        df = df.join(model, how='inner')\n",
    "        n = len(df.index)\n",
    "        return (sum((data-model)**2)/n)**0.5\n",
    "    \n",
    "    def norm(self, wavelength):\n",
    "        df = self.df.ix[wavelength]\n",
    "        df = df - df.min()\n",
    "        df = df / df.max()\n",
    "        return df\n",
    "    "
   ]
  },
  {
   "cell_type": "code",
   "execution_count": 4,
   "metadata": {
    "collapsed": false
   },
   "outputs": [],
   "source": [
    "class Data:\n",
    "    def __init__(self, path, name, wavelengths, c_type):\n",
    "        f = pd.read_csv(path)\n",
    "        wv_raw = np.array(f.wv)\n",
    "        R = np.array(f.R)\n",
    "        self.name = name\n",
    "        self.df = pd.Series()\n",
    "        self.f = interp1d(wv_raw, R, kind='cubic')\n",
    "        self.min_wv = min(wv_raw)\n",
    "        self.max_wv = max(wv_raw)\n",
    "        self.df = pd.Series(data=R, index=wv_raw, name=name)\n",
    "        self.interp(wavelengths)\n",
    "        \n",
    "    def interp(self, wavelengths):\n",
    "        wavelengths = wavelengths[np.nonzero(np.logical_and(wavelengths > self.min_wv, wavelengths < self.max_wv))]\n",
    "        data = self.f(wavelengths)\n",
    "        self.df = pd.Series(data=data, index=wavelengths, name=self.name)\n",
    "    \n",
    "    def norm(self, wavelength):\n",
    "        df = self.df.ix[wavelength]\n",
    "        df = df - df.min()\n",
    "        df = df / df.max()\n",
    "        return df"
   ]
  },
  {
   "cell_type": "code",
   "execution_count": 5,
   "metadata": {
    "collapsed": false
   },
   "outputs": [],
   "source": [
    "model = Model()"
   ]
  },
  {
   "cell_type": "code",
   "execution_count": null,
   "metadata": {
    "collapsed": false
   },
   "outputs": [],
   "source": [
    "normal = Data('C:/WORK!!!!/VF088 - ARC Thickness/Normal-N.csv', 'Data', np.arange(300,1700), 'R')"
   ]
  },
  {
   "cell_type": "code",
   "execution_count": null,
   "metadata": {
    "collapsed": true
   },
   "outputs": [],
   "source": [
    "xenon = Data('C:/WORK!!!!/VF088 - ARC Thickness/Xenon-N.csv', 'Data', np.arange(300,1700), 'R')"
   ]
  },
  {
   "cell_type": "code",
   "execution_count": null,
   "metadata": {
    "collapsed": true
   },
   "outputs": [],
   "source": [
    "normal = Data('C:/WORK!!!!/VF088 - ARC Thickness/White Light.csv', 'Data', np.arange(300,1700), 'R')"
   ]
  },
  {
   "cell_type": "code",
   "execution_count": 6,
   "metadata": {
    "collapsed": true
   },
   "outputs": [],
   "source": [
    "xenon = Data('C:/WORK!!!!/VF088 - ARC Thickness/XLS.csv', 'Data', np.arange(300,1700), 'R')"
   ]
  },
  {
   "cell_type": "code",
   "execution_count": 7,
   "metadata": {
    "collapsed": false
   },
   "outputs": [
    {
     "name": "stdout",
     "output_type": "stream",
     "text": [
      " - Adding parameter for hint \"thickness\"\n",
      " - Adding parameter for hint \"void_percent\"\n",
      " - Adding parameter \"thickness\"\n",
      " - Adding parameter \"void_percent\"\n",
      "Warning: Layers that are almost perfectly opaque are modified to be slightly transmissive, allowing 1 photon in 10^30 to pass through. It's for numerical stability. This warning will not be shown again.\n",
      "[[Model]]\n",
      "    Model(get_R)\n",
      "[[Fit Statistics]]\n",
      "    # function evals   = 53\n",
      "    # data points      = 550\n",
      "    # variables        = 2\n",
      "    chi-square         = 1.216\n",
      "    reduced chi-square = 0.002\n",
      "[[Variables]]\n",
      "    thickness:      110.264547 +/- 0.148392 (0.13%) (init= 150)\n",
      "    void_percent:   2.1447e-12 +/- 0.001461 (68132582460.94%) (init= 0.3)\n",
      "[[Correlations]] (unreported correlations are <  0.100)\n",
      "\n"
     ]
    }
   ],
   "source": [
    "model.layers = ['Air', 'BK7', 'SLG']\n",
    "wv = np.arange(350, 900)\n",
    "mod = lmfit.Model(model.get_R, ['wavelengths'], ['thickness','void_percent'])\n",
    "mod.set_param_hint('thickness', value = 150, min=50, max=250)\n",
    "mod.set_param_hint('void_percent', value = .3, min=.0, max=1)\n",
    "\n",
    "R = xenon.norm(wv)\n",
    "result = mod.fit(R, wavelengths=wv)\n",
    "\n",
    "residuals = R-result.best_fit\n",
    "RMSE = (sp.sum(residuals**2)/(residuals.size-2))**0.5\n",
    "bf_values = result.best_values\n",
    "bf_str = 'thk: ' + str(round(bf_values['thickness'])) +\", Void %: \" + str(round(bf_values['void_percent']*100, 2))\n",
    "txt_spot = wv.min()-100 + (wv.max()-wv.min()) / 2\n",
    "\n",
    "ax = plt.figure().add_subplot(111)\n",
    "ax.text(txt_spot, .9, \"RMSE: \"+str(round(RMSE, 3)))\n",
    "ax.text(txt_spot, .85, bf_str)\n",
    "result.plot_fit()\n",
    "\n",
    "plt.show()\n",
    "print(result.fit_report())"
   ]
  },
  {
   "cell_type": "code",
   "execution_count": null,
   "metadata": {
    "collapsed": false
   },
   "outputs": [],
   "source": [
    "model.layers = ['Air', 'BK7', 'SLG']\n",
    "wv = np.arange(350, 900)\n",
    "data = xenon.norm(wv)\n",
    "popt, pcov = so.curve_fit(model.get_R, wv, data, p0=(150, .3))\n",
    "\n",
    "model.thicknesses[1]=popt[0]\n",
    "model.run(wv, popt[1])\n",
    "model.data['R']\n",
    "df = pd.DataFrame()\n",
    "df = df.join(xenon.df, how='outer')\n",
    "df = df.join(pd.Series(model.data['R'], index=wv, name='Model'), how='inner')\n",
    "\n",
    "df.Data -= df.Data.min()\n",
    "df.Data /= df.Data.max()\n",
    "df.Model -= df.Model.min()\n",
    "df.Model /= df.Model.max()\n",
    "\n",
    "residuals = df.Model-df.Data\n",
    "RMSE = (sp.sum(residuals**2)/(residuals.size-2))**0.5\n",
    "ax = plt.figure().add_subplot(111)\n",
    "ax.text(400, .7, \"RMSE: \"+str(round(RMSE, 3)))\n",
    "line_objects = plt.plot(df.index, df)\n",
    "model_txt = 'Model (' + str(round(popt[0]))+' nm'+' & '+ str(round(popt[1],2)) +' void percent)'\n",
    "plt.legend(line_objects, ('Data', model_txt))\n",
    "plt.show()"
   ]
  },
  {
   "cell_type": "code",
   "execution_count": null,
   "metadata": {
    "collapsed": false
   },
   "outputs": [],
   "source": [
    "def bruggeman(n1, n2, percent_included):\n",
    "    e1 = n1**2\n",
    "    e2 = n2**2\n",
    "    b = ((3*percent_included-1)*(e2-e1)+e1)/4\n",
    "    e = b + (b + e1*e2/2)**0.5\n",
    "    e_neg = b - (b + e1*e2/2)**0.5\n",
    "    d = {\"e\": e, \"e_neg\": e_neg, \"n\": e**.5, \"n_neg\": e_neg**.5, 'conc':percent_included, \"n1\":n1, 'n2':n2}\n",
    "    return(d)\n",
    "\n",
    "def better_bruggeman(n1, n2, percent_included):\n",
    "    p = n1/n2\n",
    "    b = .25*((3*percent_included-1)*(1/p-p)+p)\n",
    "    z = b + (b**2 + .5)**0.5\n",
    "    e = z*n1*n2\n",
    "    return({\"e\":e, \"n\":e**0.5, 'conc':percent_included, \"n1\":n1, 'n2':n2})\n",
    "\n",
    "def brug_transform(df, layer, incl, percent):\n",
    "    p = df.ix(layer)/incl\n",
    "    b = .25*((3*percent-1)*(1/p-p)+p)\n",
    "    z = b + (b**2 + .5)**0.5\n",
    "    e = z*df[layer]*incl\n",
    "    n = e**.5\n",
    "    df[layer] = n"
   ]
  },
  {
   "cell_type": "code",
   "execution_count": null,
   "metadata": {
    "collapsed": false,
    "scrolled": false
   },
   "outputs": [],
   "source": [
    "xenon.df"
   ]
  },
  {
   "cell_type": "code",
   "execution_count": null,
   "metadata": {
    "collapsed": false
   },
   "outputs": [],
   "source": [
    "normal.df"
   ]
  },
  {
   "cell_type": "code",
   "execution_count": null,
   "metadata": {
    "collapsed": true
   },
   "outputs": [],
   "source": []
  }
 ],
 "metadata": {
  "kernelspec": {
   "display_name": "Python 3",
   "language": "python",
   "name": "python3"
  },
  "language_info": {
   "codemirror_mode": {
    "name": "ipython",
    "version": 3
   },
   "file_extension": ".py",
   "mimetype": "text/x-python",
   "name": "python",
   "nbconvert_exporter": "python",
   "pygments_lexer": "ipython3",
   "version": "3.4.3"
  }
 },
 "nbformat": 4,
 "nbformat_minor": 0
}
