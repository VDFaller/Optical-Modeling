{
 "cells": [
  {
   "cell_type": "code",
   "execution_count": 1,
   "metadata": {
    "collapsed": false,
    "scrolled": true
   },
   "outputs": [],
   "source": [
    "import pandas as pd\n",
    "import numpy as np\n",
    "import scipy as sp\n",
    "from scipy.interpolate import interp1d\n",
    "import scipy.optimize as so\n",
    "import tmm_core as tmm\n",
    "import lmfit\n",
    "from matplotlib import pyplot as plt"
   ]
  },
  {
   "cell_type": "code",
   "execution_count": 2,
   "metadata": {
    "collapsed": false
   },
   "outputs": [],
   "source": [
    "class Material:\n",
    "    def __init__(self, path, name, wavelengths):\n",
    "        f = pd.read_csv(path)\n",
    "        wv_raw = np.array(f.wv)\n",
    "        nc = np.array(f.n+f.k*1j)  # complex refractive index\n",
    "        self.name = name\n",
    "        self.f = interp1d(wv_raw, nc, kind='cubic')\n",
    "        self.min_wv = min(wv_raw)\n",
    "        self.max_wv = max(wv_raw)\n",
    "        self.df = pd.Series(data=nc, index=wv_raw, name=name)\n",
    "        # self.df = self.df.reindex(wavelengths)\n",
    "        # self.df = self.df.interpolate('spline', order=3)\n",
    "        self.interp(wavelengths)\n",
    "\n",
    "    def interp(self, wavelengths):\n",
    "        wavelengths = wavelengths[np.nonzero(np.logical_and(wavelengths > self.min_wv, wavelengths < self.max_wv))]\n",
    "        nc = self.f(wavelengths)\n",
    "        self.df = pd.DataFrame(nc,wavelengths, [self.name])\n"
   ]
  },
  {
   "cell_type": "code",
   "execution_count": 34,
   "metadata": {
    "collapsed": true
   },
   "outputs": [],
   "source": [
    "class Model:\n",
    "    def __init__(self):\n",
    "        self.wavelength = np.arange(300, 1700, 1)\n",
    "        self.increment = .2\n",
    "        self.index_array = np.array([])\n",
    "        self.materials = []\n",
    "        self.mat_df = pd.DataFrame([], self.wavelength)\n",
    "        self.data = {}\n",
    "        self.thicknesses = [sp.inf, 0, sp.inf]\n",
    "        self.layers = []\n",
    "\n",
    "        self.add_material(\"TCO\", './Materials/Semiconductor/TCO.csv')\n",
    "        self.add_material(\"CdSe\", './Materials/Semiconductor/CdSe.csv')\n",
    "        self.add_material(\"CdTe\", './Materials/Semiconductor/CdTe.csv')\n",
    "        self.add_material(\"Air\", './Materials/Semiconductor/Air.csv')\n",
    "        self.add_material(\"BK7\", './Materials/Dielectric/BK7.csv')\n",
    "        self.add_material(\"SLG\", './Materials/Dielectric/SLG.csv')\n",
    "        self.add_material(\"SS TCO\", './Materials/Dielectric/Sunnyside TCO.csv')\n",
    "        self.add_material(\"SiO2\", './Materials/Dielectric/SiO2-Jaw.csv')\n",
    "        \n",
    "    def add_material(self, film, path):\n",
    "        if film not in self.mat_df:\n",
    "            mat = Material(path, film, self.wavelength)\n",
    "            self.materials.append(mat)\n",
    "            self.mat_df = self.mat_df.join(mat.df)\n",
    "\n",
    "    def set_wavelength(self, low, high, interval):\n",
    "        self.wavelength = np.arange(low, high, interval)\n",
    "        df = self.mat_df.reindex(self.wavelength)\n",
    "        df = df.interpolate('spline', order=3)\n",
    "        self.mat_df = df\n",
    "\n",
    "    def better_bruggeman(self, n1, n2, percent_included):\n",
    "        p = n1/n2\n",
    "        b = .25*((3*percent_included-1)*(1/p-p)+p)\n",
    "        z = b + (b**2 + .5)**0.5\n",
    "        e = z*n1*n2\n",
    "        return {\"e\": e, \"n\": e**0.5, 'conc': percent_included, \"n1\": n1, 'n2': n2}\n",
    "\n",
    "    def brug_transform(self, df, layer, incl, percent):\n",
    "        p = df[layer]/incl\n",
    "        b = .25*((3*percent-1)*(1/p-p)+p)\n",
    "        z = b + (b**2 + .5)**0.5\n",
    "        e = z*df[layer]*incl\n",
    "        n = e**.5\n",
    "        df[layer] = n\n",
    "    \n",
    "    def run(self, wavelengths, void_percent):\n",
    "        mat = self.mat_df.ix[wavelengths]\n",
    "        mat = mat[self.layers]\n",
    "        self.brug_transform(mat, self.layers[1], mat['Air'], void_percent)\n",
    "        self.index_array = np.array(mat)\n",
    "        theta0 = 45*sp.pi/180\n",
    "        self.data = tmm.unpolarized_RT(self.index_array, self.thicknesses, theta0, wavelengths)\n",
    "        \n",
    "    def normalized(a, axis=-1, order=2):\n",
    "        l2 = np.atleast_1d(np.linalg.norm(a, order, axis))\n",
    "        l2[l2==0] = 1\n",
    "        return a / np.expand_dims(l2, axis)\n",
    "    \n",
    "    def get_R(self, wavelengths, thickness, void_percent):\n",
    "        self.thicknesses[1] = thickness\n",
    "        self.run(wavelengths, void_percent) \n",
    "        R = self.data['R']\n",
    "        R -= min(R)\n",
    "        R /= max(R)\n",
    "        return R\n",
    "        \n",
    "    def RMSE(self, thickness, data):\n",
    "        df = pd.DataFrame(data)\n",
    "        self.get_R(thickness)\n",
    "        model = pd.DataFrame(self.data['R'], index=self.wavelength)\n",
    "        df = df.join(model, how='inner')\n",
    "        n = len(df.index)\n",
    "        return (sum((data-model)**2)/n)**0.5\n",
    "    \n",
    "    def norm(self, wavelength):\n",
    "        df = self.df.ix[wavelength]\n",
    "        df = df - df.min()\n",
    "        df = df / df.max()\n",
    "        return df\n",
    "    \n",
    "    def fit(self, wv, data):\n",
    "        mod = lmfit.Model(self.get_R, ['wavelengths'], ['thickness','void_percent'])\n",
    "        mod.set_param_hint('thickness', value = 130, min=50, max=250)\n",
    "        mod.set_param_hint('void_percent', value = .15, min=.05, max=.5)\n",
    "\n",
    "        R = data.series.ix[wv]\n",
    "        result = mod.fit(R, wavelengths=wv)\n",
    "\n",
    "        RMSE = (sp.sum(result.residual**2)/(result.residual.size-2))**0.5\n",
    "        bf_values = result.best_values\n",
    "        bf_str = 'thk: ' + str(round(bf_values['thickness'])) +\", Void %: \" + str(round(bf_values['void_percent']*100, 2))\n",
    "        txt_spot = wv.min()-100 + (wv.max()-wv.min()) / 2\n",
    "\n",
    "        fig = plt.figure()\n",
    "        ax = fig.add_subplot(111)\n",
    "        ax.text(txt_spot, .9, \"RMSE: \"+str(round(RMSE, 3)))\n",
    "        ax.text(txt_spot, .85, bf_str)\n",
    "        result.plot_fit(data_kws ={'marker':'+'})\n",
    "\n",
    "        plt.show()\n",
    "        print(result.fit_report())\n",
    "    "
   ]
  },
  {
   "cell_type": "code",
   "execution_count": 62,
   "metadata": {
    "collapsed": false
   },
   "outputs": [],
   "source": [
    "class Data:\n",
    "    def __init__(self, path, name, wavelengths, c_type):\n",
    "        f = pd.read_csv(path)\n",
    "        wv_raw = np.array(f.wv)\n",
    "        R = np.array(f.R)\n",
    "        self.name = name\n",
    "        self.f = interp1d(wv_raw, R, kind='cubic')\n",
    "        self.min_wv = min(wv_raw)\n",
    "        self.max_wv = max(wv_raw)\n",
    "        self.raw_series = pd.Series(data=R, index=wv_raw, name=name)\n",
    "        self.interp(wavelengths)\n",
    "        self.series = self.norm(wavelengths)\n",
    "        \n",
    "    def interp(self, wavelengths):\n",
    "        wavelengths = wavelengths[np.nonzero(np.logical_and(wavelengths > self.min_wv, wavelengths < self.max_wv))]\n",
    "        data = self.f(wavelengths)\n",
    "        self.raw_series = pd.Series(data=data, index=wavelengths, name=self.name)\n",
    "    \n",
    "    def norm(self, wavelength, data_filter=\"Savitzky-Golay\"):\n",
    "        s = self.raw_series.ix[wavelength]\n",
    "        s = s.dropna()\n",
    "        s = s - s.min()\n",
    "        s = s / s.max()\n",
    "        if data_filter == \"Savitzky-Golay\":\n",
    "            arr = self.savitzky_golay(y=np.array(s), window_size=11, order=3, deriv=0, rate=1)\n",
    "            s = pd.Series(arr, s.index, name=self.raw_series.name+\" processed\")\n",
    "        return s\n",
    "    \n",
    "    def savitzky_golay(self, y, window_size, order, deriv=0, rate=1):\n",
    "        r\"\"\"Smooth (and optionally differentiate) data with a Savitzky-Golay filter.\n",
    "        The Savitzky-Golay filter removes high frequency noise from data.\n",
    "        It has the advantage of preserving the original shape and\n",
    "        features of the signal better than other types of filtering\n",
    "        approaches, such as moving averages techniques.\n",
    "        Parameters\n",
    "        ----------\n",
    "        y : array_like, shape (N,)\n",
    "            the values of the time history of the signal.\n",
    "        window_size : int\n",
    "            the length of the window. Must be an odd integer number.\n",
    "        order : int\n",
    "            the order of the polynomial used in the filtering.\n",
    "            Must be less then `window_size` - 1.\n",
    "        deriv: int\n",
    "            the order of the derivative to compute (default = 0 means only smoothing)\n",
    "        rate: int\n",
    "            don't know\n",
    "        Returns\n",
    "        -------\n",
    "        ys : ndarray, shape (N)\n",
    "            the smoothed signal (or it's n-th derivative).\n",
    "        Notes\n",
    "        -----\n",
    "        The Savitzky-Golay is a type of low-pass filter, particularly\n",
    "        suited for smoothing noisy data. The main idea behind this\n",
    "        approach is to make for each point a least-square fit with a\n",
    "        polynomial of high order over a odd-sized window centered at\n",
    "        the point.\n",
    "        Examples\n",
    "        --------\n",
    "        t = np.linspace(-4, 4, 500)\n",
    "        y = np.exp( -t**2 ) + np.random.normal(0, 0.05, t.shape)\n",
    "        ysg = savitzky_golay(y, window_size=31, order=4)\n",
    "        import matplotlib.pyplot as plt\n",
    "        plt.plot(t, y, label='Noisy signal')\n",
    "        plt.plot(t, np.exp(-t**2), 'k', lw=1.5, label='Original signal')\n",
    "        plt.plot(t, ysg, 'r', label='Filtered signal')\n",
    "        plt.legend()\n",
    "        plt.show()\n",
    "        References\n",
    "        ----------\n",
    "        .. [1] A. Savitzky, M. J. E. Golay, Smoothing and Differentiation of\n",
    "           Data by Simplified Least Squares Procedures. Analytical\n",
    "           Chemistry, 1964, 36 (8), pp 1627-1639.\n",
    "        .. [2] Numerical Recipes 3rd Edition: The Art of Scientific Computing\n",
    "           W.H. Press, S.A. Teukolsky, W.T. Vetterling, B.P. Flannery\n",
    "           Cambridge University Press ISBN-13: 9780521880688\n",
    "        \"\"\"\n",
    "        import numpy as np\n",
    "        from math import factorial\n",
    "\n",
    "        try:\n",
    "            window_size = np.abs(np.int(window_size))\n",
    "            order = np.abs(np.int(order))\n",
    "        except (ValueError, msg):\n",
    "            raise ValueError(\"window_size and order have to be of type int\")\n",
    "        if window_size % 2 != 1 or window_size < 1:\n",
    "            raise TypeError(\"window_size size must be a positive odd number\")\n",
    "        if window_size < order + 2:\n",
    "            raise TypeError(\"window_size is too small for the polynomials order\")\n",
    "        order_range = range(order+1)\n",
    "        half_window = (window_size -1) // 2\n",
    "        # precompute coefficients\n",
    "        b = np.mat([[k**i for i in order_range] for k in range(-half_window, half_window+1)])\n",
    "        m = np.linalg.pinv(b).A[deriv] * rate**deriv * factorial(deriv)\n",
    "        # pad the signal at the extremes with\n",
    "        # values taken from the signal itself\n",
    "        firstvals = y[0] - np.abs(y[1:half_window+1][::-1] - y[0])\n",
    "        lastvals = y[-1] + np.abs(y[-half_window-1:-1][::-1] - y[-1])\n",
    "        y = np.concatenate((firstvals, y, lastvals))\n",
    "        return np.convolve(m[::-1], y, mode='valid')"
   ]
  },
  {
   "cell_type": "code",
   "execution_count": 35,
   "metadata": {
    "collapsed": false
   },
   "outputs": [],
   "source": [
    "model = Model()"
   ]
  },
  {
   "cell_type": "code",
   "execution_count": 63,
   "metadata": {
    "collapsed": false
   },
   "outputs": [],
   "source": [
    "data = Data('C:/WORK!!!!/VF088 - ARC Thickness/EKE-HC d.csv', 'Data', np.arange(300,1700), 'R')"
   ]
  },
  {
   "cell_type": "code",
   "execution_count": 65,
   "metadata": {
    "collapsed": false
   },
   "outputs": [],
   "source": [
    "wv = np.arange(400, 900)\n",
    "s1 = data.norm(wv)\n",
    "s2 = data.norm(wv, None)\n",
    "\n",
    "s1.name = 'sav-golay'\n",
    "s2.name = 'Just Norm'\n",
    "x = pd.concat([data.raw_series, data.series], axis=1).dropna()\n",
    "\n",
    "plt.plot(x.index, x['Data processed'])\n",
    "plt.show()"
   ]
  },
  {
   "cell_type": "code",
   "execution_count": 38,
   "metadata": {
    "collapsed": false
   },
   "outputs": [
    {
     "name": "stdout",
     "output_type": "stream",
     "text": [
      " - Adding parameter for hint \"thickness\"\n",
      " - Adding parameter for hint \"void_percent\"\n",
      " - Adding parameter \"thickness\"\n",
      " - Adding parameter \"void_percent\"\n",
      "[[Model]]\n",
      "    Model(get_R)\n",
      "[[Fit Statistics]]\n",
      "    # function evals   = 49\n",
      "    # data points      = 500\n",
      "    # variables        = 2\n",
      "    chi-square         = 0.906\n",
      "    reduced chi-square = 0.002\n",
      "[[Variables]]\n",
      "    thickness:      113.301370 +/- 1.757884 (1.55%) (init= 130)\n",
      "    void_percent:   0.05000000 +/- 7.04e-06 (0.01%) (init= 0.15)\n",
      "[[Correlations]] (unreported correlations are <  0.100)\n",
      "    C(thickness, void_percent)   = -0.998 \n",
      "\n"
     ]
    }
   ],
   "source": [
    "model.layers = ['Air', 'BK7', 'SLG']\n",
    "wv = np.arange(400, 900)\n",
    "data.series = data.norm(wv)\n",
    "model.fit(wv, data)"
   ]
  },
  {
   "cell_type": "code",
   "execution_count": 105,
   "metadata": {
    "collapsed": false
   },
   "outputs": [
    {
     "data": {
      "text/plain": [
       "558    True\n",
       "587    True\n",
       "599    True\n",
       "616    True\n",
       "620    True\n",
       "624    True\n",
       "626    True\n",
       "628    True\n",
       "661    True\n",
       "776    True\n",
       "801    True\n",
       "894    True\n",
       "Name: Data, dtype: bool"
      ]
     },
     "execution_count": 105,
     "metadata": {},
     "output_type": "execute_result"
    }
   ],
   "source": [
    "extrema_criterion = .00005\n",
    "ex = data.df.diff().abs() < extrema_criterion\n",
    "ex[ex == True]"
   ]
  },
  {
   "cell_type": "code",
   "execution_count": 37,
   "metadata": {
    "collapsed": false
   },
   "outputs": [
    {
     "ename": "NameError",
     "evalue": "name 'xenon' is not defined",
     "output_type": "error",
     "traceback": [
      "\u001b[1;31m---------------------------------------------------------------------------\u001b[0m",
      "\u001b[1;31mNameError\u001b[0m                                 Traceback (most recent call last)",
      "\u001b[1;32m<ipython-input-37-a975be282dc7>\u001b[0m in \u001b[0;36m<module>\u001b[1;34m()\u001b[0m\n\u001b[0;32m      1\u001b[0m \u001b[0mmodel\u001b[0m\u001b[1;33m.\u001b[0m\u001b[0mlayers\u001b[0m \u001b[1;33m=\u001b[0m \u001b[1;33m[\u001b[0m\u001b[1;34m'Air'\u001b[0m\u001b[1;33m,\u001b[0m \u001b[1;34m'BK7'\u001b[0m\u001b[1;33m,\u001b[0m \u001b[1;34m'SLG'\u001b[0m\u001b[1;33m]\u001b[0m\u001b[1;33m\u001b[0m\u001b[0m\n\u001b[0;32m      2\u001b[0m \u001b[0mwv\u001b[0m \u001b[1;33m=\u001b[0m \u001b[0mnp\u001b[0m\u001b[1;33m.\u001b[0m\u001b[0marange\u001b[0m\u001b[1;33m(\u001b[0m\u001b[1;36m350\u001b[0m\u001b[1;33m,\u001b[0m \u001b[1;36m900\u001b[0m\u001b[1;33m)\u001b[0m\u001b[1;33m\u001b[0m\u001b[0m\n\u001b[1;32m----> 3\u001b[1;33m \u001b[0mdata\u001b[0m \u001b[1;33m=\u001b[0m \u001b[0mxenon\u001b[0m\u001b[1;33m.\u001b[0m\u001b[0mnorm\u001b[0m\u001b[1;33m(\u001b[0m\u001b[0mwv\u001b[0m\u001b[1;33m)\u001b[0m\u001b[1;33m\u001b[0m\u001b[0m\n\u001b[0m\u001b[0;32m      4\u001b[0m \u001b[0mpopt\u001b[0m\u001b[1;33m,\u001b[0m \u001b[0mpcov\u001b[0m \u001b[1;33m=\u001b[0m \u001b[0mso\u001b[0m\u001b[1;33m.\u001b[0m\u001b[0mcurve_fit\u001b[0m\u001b[1;33m(\u001b[0m\u001b[0mmodel\u001b[0m\u001b[1;33m.\u001b[0m\u001b[0mget_R\u001b[0m\u001b[1;33m,\u001b[0m \u001b[0mwv\u001b[0m\u001b[1;33m,\u001b[0m \u001b[0mdata\u001b[0m\u001b[1;33m,\u001b[0m \u001b[0mp0\u001b[0m\u001b[1;33m=\u001b[0m\u001b[1;33m(\u001b[0m\u001b[1;36m150\u001b[0m\u001b[1;33m,\u001b[0m \u001b[1;36m.3\u001b[0m\u001b[1;33m)\u001b[0m\u001b[1;33m)\u001b[0m\u001b[1;33m\u001b[0m\u001b[0m\n\u001b[0;32m      5\u001b[0m \u001b[1;33m\u001b[0m\u001b[0m\n",
      "\u001b[1;31mNameError\u001b[0m: name 'xenon' is not defined"
     ]
    }
   ],
   "source": []
  },
  {
   "cell_type": "code",
   "execution_count": null,
   "metadata": {
    "collapsed": false
   },
   "outputs": [],
   "source": [
    "def bruggeman(n1, n2, percent_included):\n",
    "    e1 = n1**2\n",
    "    e2 = n2**2\n",
    "    b = ((3*percent_included-1)*(e2-e1)+e1)/4\n",
    "    e = b + (b + e1*e2/2)**0.5\n",
    "    e_neg = b - (b + e1*e2/2)**0.5\n",
    "    d = {\"e\": e, \"e_neg\": e_neg, \"n\": e**.5, \"n_neg\": e_neg**.5, 'conc':percent_included, \"n1\":n1, 'n2':n2}\n",
    "    return(d)\n",
    "\n",
    "def better_bruggeman(n1, n2, percent_included):\n",
    "    p = n1/n2\n",
    "    b = .25*((3*percent_included-1)*(1/p-p)+p)\n",
    "    z = b + (b**2 + .5)**0.5\n",
    "    e = z*n1*n2\n",
    "    return({\"e\":e, \"n\":e**0.5, 'conc':percent_included, \"n1\":n1, 'n2':n2})\n",
    "\n",
    "def brug_transform(df, layer, incl, percent):\n",
    "    p = df.ix(layer)/incl\n",
    "    b = .25*((3*percent-1)*(1/p-p)+p)\n",
    "    z = b + (b**2 + .5)**0.5\n",
    "    e = z*df[layer]*incl\n",
    "    n = e**.5\n",
    "    df[layer] = n"
   ]
  },
  {
   "cell_type": "code",
   "execution_count": 50,
   "metadata": {
    "collapsed": false,
    "scrolled": false
   },
   "outputs": [
    {
     "name": "stdout",
     "output_type": "stream",
     "text": [
      " - Adding parameter for hint \"thickness\"\n",
      " - Adding parameter for hint \"void_percent\"\n",
      " - Adding parameter for hint \"layers\"\n",
      " - Adding parameter \"thickness\"\n",
      " - Adding parameter \"void_percent\"\n",
      " - Adding parameter \"layers\"\n"
     ]
    },
    {
     "ename": "IndexError",
     "evalue": "list index out of range",
     "output_type": "error",
     "traceback": [
      "\u001b[1;31m---------------------------------------------------------------------------\u001b[0m",
      "\u001b[1;31mIndexError\u001b[0m                                Traceback (most recent call last)",
      "\u001b[1;32m<ipython-input-50-8a2b84ab7fd0>\u001b[0m in \u001b[0;36m<module>\u001b[1;34m()\u001b[0m\n\u001b[0;32m      7\u001b[0m \u001b[1;33m\u001b[0m\u001b[0m\n\u001b[0;32m      8\u001b[0m \u001b[0mR\u001b[0m \u001b[1;33m=\u001b[0m \u001b[0mnormal\u001b[0m\u001b[1;33m.\u001b[0m\u001b[0mnorm\u001b[0m\u001b[1;33m(\u001b[0m\u001b[0mwv\u001b[0m\u001b[1;33m)\u001b[0m\u001b[1;33m\u001b[0m\u001b[0m\n\u001b[1;32m----> 9\u001b[1;33m \u001b[0mresult\u001b[0m \u001b[1;33m=\u001b[0m \u001b[0mmod\u001b[0m\u001b[1;33m.\u001b[0m\u001b[0mfit\u001b[0m\u001b[1;33m(\u001b[0m\u001b[0mR\u001b[0m\u001b[1;33m,\u001b[0m \u001b[0mwavelengths\u001b[0m\u001b[1;33m=\u001b[0m\u001b[0mwv\u001b[0m\u001b[1;33m)\u001b[0m\u001b[1;33m\u001b[0m\u001b[0m\n\u001b[0m",
      "\u001b[1;32mC:\\Anaconda3\\envs\\python34\\lib\\site-packages\\lmfit\\model.py\u001b[0m in \u001b[0;36mfit\u001b[1;34m(self, data, params, weights, method, iter_cb, scale_covar, verbose, fit_kws, **kwargs)\u001b[0m\n\u001b[0;32m    504\u001b[0m                              \u001b[0mscale_covar\u001b[0m\u001b[1;33m=\u001b[0m\u001b[0mscale_covar\u001b[0m\u001b[1;33m,\u001b[0m \u001b[0mfcn_kws\u001b[0m\u001b[1;33m=\u001b[0m\u001b[0mkwargs\u001b[0m\u001b[1;33m,\u001b[0m\u001b[1;33m\u001b[0m\u001b[0m\n\u001b[0;32m    505\u001b[0m                              **fit_kws)\n\u001b[1;32m--> 506\u001b[1;33m         \u001b[0moutput\u001b[0m\u001b[1;33m.\u001b[0m\u001b[0mfit\u001b[0m\u001b[1;33m(\u001b[0m\u001b[0mdata\u001b[0m\u001b[1;33m=\u001b[0m\u001b[0mdata\u001b[0m\u001b[1;33m,\u001b[0m \u001b[0mweights\u001b[0m\u001b[1;33m=\u001b[0m\u001b[0mweights\u001b[0m\u001b[1;33m)\u001b[0m\u001b[1;33m\u001b[0m\u001b[0m\n\u001b[0m\u001b[0;32m    507\u001b[0m         \u001b[0moutput\u001b[0m\u001b[1;33m.\u001b[0m\u001b[0mcomponents\u001b[0m \u001b[1;33m=\u001b[0m \u001b[0mself\u001b[0m\u001b[1;33m.\u001b[0m\u001b[0mcomponents\u001b[0m\u001b[1;33m\u001b[0m\u001b[0m\n\u001b[0;32m    508\u001b[0m         \u001b[1;32mreturn\u001b[0m \u001b[0moutput\u001b[0m\u001b[1;33m\u001b[0m\u001b[0m\n",
      "\u001b[1;32mC:\\Anaconda3\\envs\\python34\\lib\\site-packages\\lmfit\\model.py\u001b[0m in \u001b[0;36mfit\u001b[1;34m(self, data, params, weights, method, **kwargs)\u001b[0m\n\u001b[0;32m    708\u001b[0m         \u001b[0mself\u001b[0m\u001b[1;33m.\u001b[0m\u001b[0muserargs\u001b[0m \u001b[1;33m=\u001b[0m \u001b[1;33m(\u001b[0m\u001b[0mself\u001b[0m\u001b[1;33m.\u001b[0m\u001b[0mdata\u001b[0m\u001b[1;33m,\u001b[0m \u001b[0mself\u001b[0m\u001b[1;33m.\u001b[0m\u001b[0mweights\u001b[0m\u001b[1;33m)\u001b[0m\u001b[1;33m\u001b[0m\u001b[0m\n\u001b[0;32m    709\u001b[0m         \u001b[0mself\u001b[0m\u001b[1;33m.\u001b[0m\u001b[0muserkws\u001b[0m\u001b[1;33m.\u001b[0m\u001b[0mupdate\u001b[0m\u001b[1;33m(\u001b[0m\u001b[0mkwargs\u001b[0m\u001b[1;33m)\u001b[0m\u001b[1;33m\u001b[0m\u001b[0m\n\u001b[1;32m--> 710\u001b[1;33m         \u001b[0mself\u001b[0m\u001b[1;33m.\u001b[0m\u001b[0minit_fit\u001b[0m    \u001b[1;33m=\u001b[0m \u001b[0mself\u001b[0m\u001b[1;33m.\u001b[0m\u001b[0mmodel\u001b[0m\u001b[1;33m.\u001b[0m\u001b[0meval\u001b[0m\u001b[1;33m(\u001b[0m\u001b[0mparams\u001b[0m\u001b[1;33m=\u001b[0m\u001b[0mself\u001b[0m\u001b[1;33m.\u001b[0m\u001b[0mparams\u001b[0m\u001b[1;33m,\u001b[0m \u001b[1;33m**\u001b[0m\u001b[0mself\u001b[0m\u001b[1;33m.\u001b[0m\u001b[0muserkws\u001b[0m\u001b[1;33m)\u001b[0m\u001b[1;33m\u001b[0m\u001b[0m\n\u001b[0m\u001b[0;32m    711\u001b[0m \u001b[1;33m\u001b[0m\u001b[0m\n\u001b[0;32m    712\u001b[0m         \u001b[0m_ret\u001b[0m \u001b[1;33m=\u001b[0m \u001b[0mself\u001b[0m\u001b[1;33m.\u001b[0m\u001b[0mminimize\u001b[0m\u001b[1;33m(\u001b[0m\u001b[0mmethod\u001b[0m\u001b[1;33m=\u001b[0m\u001b[0mself\u001b[0m\u001b[1;33m.\u001b[0m\u001b[0mmethod\u001b[0m\u001b[1;33m)\u001b[0m\u001b[1;33m\u001b[0m\u001b[0m\n",
      "\u001b[1;32mC:\\Anaconda3\\envs\\python34\\lib\\site-packages\\lmfit\\model.py\u001b[0m in \u001b[0;36meval\u001b[1;34m(self, params, **kwargs)\u001b[0m\n\u001b[0;32m    370\u001b[0m     \u001b[1;32mdef\u001b[0m \u001b[0meval\u001b[0m\u001b[1;33m(\u001b[0m\u001b[0mself\u001b[0m\u001b[1;33m,\u001b[0m \u001b[0mparams\u001b[0m\u001b[1;33m=\u001b[0m\u001b[1;32mNone\u001b[0m\u001b[1;33m,\u001b[0m \u001b[1;33m**\u001b[0m\u001b[0mkwargs\u001b[0m\u001b[1;33m)\u001b[0m\u001b[1;33m:\u001b[0m\u001b[1;33m\u001b[0m\u001b[0m\n\u001b[0;32m    371\u001b[0m         \u001b[1;34m\"\"\"evaluate the model with the supplied parameters\"\"\"\u001b[0m\u001b[1;33m\u001b[0m\u001b[0m\n\u001b[1;32m--> 372\u001b[1;33m         \u001b[0mresult\u001b[0m \u001b[1;33m=\u001b[0m \u001b[0mself\u001b[0m\u001b[1;33m.\u001b[0m\u001b[0mfunc\u001b[0m\u001b[1;33m(\u001b[0m\u001b[1;33m**\u001b[0m\u001b[0mself\u001b[0m\u001b[1;33m.\u001b[0m\u001b[0mmake_funcargs\u001b[0m\u001b[1;33m(\u001b[0m\u001b[0mparams\u001b[0m\u001b[1;33m,\u001b[0m \u001b[0mkwargs\u001b[0m\u001b[1;33m)\u001b[0m\u001b[1;33m)\u001b[0m\u001b[1;33m\u001b[0m\u001b[0m\n\u001b[0m\u001b[0;32m    373\u001b[0m         \u001b[1;31m# Handle special case of constant result and one\u001b[0m\u001b[1;33m\u001b[0m\u001b[1;33m\u001b[0m\u001b[0m\n\u001b[0;32m    374\u001b[0m         \u001b[1;31m# independent variable (of any dimension).\u001b[0m\u001b[1;33m\u001b[0m\u001b[1;33m\u001b[0m\u001b[0m\n",
      "\u001b[1;32m<ipython-input-41-bbf8f6a8b98a>\u001b[0m in \u001b[0;36mget_R\u001b[1;34m(self, layers, wavelengths, thickness, void_percent)\u001b[0m\n\u001b[0;32m     61\u001b[0m     \u001b[1;32mdef\u001b[0m \u001b[0mget_R\u001b[0m\u001b[1;33m(\u001b[0m\u001b[0mself\u001b[0m\u001b[1;33m,\u001b[0m \u001b[0mlayers\u001b[0m\u001b[1;33m,\u001b[0m \u001b[0mwavelengths\u001b[0m\u001b[1;33m,\u001b[0m \u001b[0mthickness\u001b[0m\u001b[1;33m,\u001b[0m \u001b[0mvoid_percent\u001b[0m\u001b[1;33m)\u001b[0m\u001b[1;33m:\u001b[0m\u001b[1;33m\u001b[0m\u001b[0m\n\u001b[0;32m     62\u001b[0m         \u001b[0mself\u001b[0m\u001b[1;33m.\u001b[0m\u001b[0mthicknesses\u001b[0m\u001b[1;33m[\u001b[0m\u001b[1;36m1\u001b[0m\u001b[1;33m]\u001b[0m \u001b[1;33m=\u001b[0m \u001b[0mthickness\u001b[0m\u001b[1;33m\u001b[0m\u001b[0m\n\u001b[1;32m---> 63\u001b[1;33m         \u001b[0mself\u001b[0m\u001b[1;33m.\u001b[0m\u001b[0mrun\u001b[0m\u001b[1;33m(\u001b[0m\u001b[0mlayers\u001b[0m\u001b[1;33m,\u001b[0m \u001b[0mwavelengths\u001b[0m\u001b[1;33m,\u001b[0m \u001b[0mvoid_percent\u001b[0m\u001b[1;33m)\u001b[0m\u001b[1;33m\u001b[0m\u001b[0m\n\u001b[0m\u001b[0;32m     64\u001b[0m         \u001b[0mR\u001b[0m \u001b[1;33m=\u001b[0m \u001b[0mself\u001b[0m\u001b[1;33m.\u001b[0m\u001b[0mdata\u001b[0m\u001b[1;33m[\u001b[0m\u001b[1;34m'R'\u001b[0m\u001b[1;33m]\u001b[0m\u001b[1;33m\u001b[0m\u001b[0m\n\u001b[0;32m     65\u001b[0m         \u001b[0mR\u001b[0m \u001b[1;33m-=\u001b[0m \u001b[0mmin\u001b[0m\u001b[1;33m(\u001b[0m\u001b[0mR\u001b[0m\u001b[1;33m)\u001b[0m\u001b[1;33m\u001b[0m\u001b[0m\n",
      "\u001b[1;32m<ipython-input-41-bbf8f6a8b98a>\u001b[0m in \u001b[0;36mrun\u001b[1;34m(self, layers, wavelengths, void_percent)\u001b[0m\n\u001b[0;32m     49\u001b[0m         \u001b[0mmat\u001b[0m \u001b[1;33m=\u001b[0m \u001b[0mself\u001b[0m\u001b[1;33m.\u001b[0m\u001b[0mmat_df\u001b[0m\u001b[1;33m.\u001b[0m\u001b[0mix\u001b[0m\u001b[1;33m[\u001b[0m\u001b[0mwavelengths\u001b[0m\u001b[1;33m]\u001b[0m\u001b[1;33m\u001b[0m\u001b[0m\n\u001b[0;32m     50\u001b[0m         \u001b[0mmat\u001b[0m \u001b[1;33m=\u001b[0m \u001b[0mmat\u001b[0m\u001b[1;33m[\u001b[0m\u001b[0mlayers\u001b[0m\u001b[1;33m]\u001b[0m\u001b[1;33m\u001b[0m\u001b[0m\n\u001b[1;32m---> 51\u001b[1;33m         \u001b[0mself\u001b[0m\u001b[1;33m.\u001b[0m\u001b[0mbrug_transform\u001b[0m\u001b[1;33m(\u001b[0m\u001b[0mmat\u001b[0m\u001b[1;33m,\u001b[0m \u001b[0mself\u001b[0m\u001b[1;33m.\u001b[0m\u001b[0mlayers\u001b[0m\u001b[1;33m[\u001b[0m\u001b[1;36m1\u001b[0m\u001b[1;33m]\u001b[0m\u001b[1;33m,\u001b[0m \u001b[0mmat\u001b[0m\u001b[1;33m[\u001b[0m\u001b[1;34m'Air'\u001b[0m\u001b[1;33m]\u001b[0m\u001b[1;33m,\u001b[0m \u001b[0mvoid_percent\u001b[0m\u001b[1;33m)\u001b[0m\u001b[1;33m\u001b[0m\u001b[0m\n\u001b[0m\u001b[0;32m     52\u001b[0m         \u001b[0mself\u001b[0m\u001b[1;33m.\u001b[0m\u001b[0mindex_array\u001b[0m \u001b[1;33m=\u001b[0m \u001b[0mnp\u001b[0m\u001b[1;33m.\u001b[0m\u001b[0marray\u001b[0m\u001b[1;33m(\u001b[0m\u001b[0mmat\u001b[0m\u001b[1;33m)\u001b[0m\u001b[1;33m\u001b[0m\u001b[0m\n\u001b[0;32m     53\u001b[0m         \u001b[0mtheta0\u001b[0m \u001b[1;33m=\u001b[0m \u001b[1;36m45\u001b[0m\u001b[1;33m*\u001b[0m\u001b[0msp\u001b[0m\u001b[1;33m.\u001b[0m\u001b[0mpi\u001b[0m\u001b[1;33m/\u001b[0m\u001b[1;36m180\u001b[0m\u001b[1;33m\u001b[0m\u001b[0m\n",
      "\u001b[1;31mIndexError\u001b[0m: list index out of range"
     ]
    }
   ],
   "source": [
    "layers = ['Air', 'BK7', 'SLG']\n",
    "wv = np.arange(400, 900)\n",
    "mod = lmfit.Model(model.get_R, ['wavelengths'], ['thickness','void_percent', 'layers'])\n",
    "mod.set_param_hint('thickness', value = 130, min=50, max=250)\n",
    "mod.set_param_hint('void_percent', value = .15, min=.05, max=.5)\n",
    "mod.set_param_hint('layers', value=layers, vary=False)\n",
    "\n",
    "R = normal.norm(wv)\n",
    "result = mod.fit(R, wavelengths=wv)"
   ]
  },
  {
   "cell_type": "code",
   "execution_count": null,
   "metadata": {
    "collapsed": false
   },
   "outputs": [],
   "source": [
    "normal.df"
   ]
  },
  {
   "cell_type": "code",
   "execution_count": null,
   "metadata": {
    "collapsed": true
   },
   "outputs": [],
   "source": []
  }
 ],
 "metadata": {
  "kernelspec": {
   "display_name": "Python 3",
   "language": "python",
   "name": "python3"
  },
  "language_info": {
   "codemirror_mode": {
    "name": "ipython",
    "version": 3
   },
   "file_extension": ".py",
   "mimetype": "text/x-python",
   "name": "python",
   "nbconvert_exporter": "python",
   "pygments_lexer": "ipython3",
   "version": "3.5.1"
  }
 },
 "nbformat": 4,
 "nbformat_minor": 0
}
