{
 "cells": [
  {
   "cell_type": "code",
   "execution_count": 1,
   "metadata": {
    "collapsed": false,
    "scrolled": true
   },
   "outputs": [],
   "source": [
    "import pandas as pd\n",
    "import numpy as np\n",
    "import scipy as sp\n",
    "from scipy.interpolate import interp1d\n",
    "import scipy.optimize as so\n",
    "import tmm_core as tmm\n",
    "import lmfit\n",
    "from matplotlib import pyplot as plt"
   ]
  },
  {
   "cell_type": "code",
   "execution_count": 2,
   "metadata": {
    "collapsed": false
   },
   "outputs": [],
   "source": [
    "class Data:\n",
    "    def __init__(self, path, name, wavelengths):\n",
    "        f = pd.read_csv(path)\n",
    "        wv_raw = np.array(f.wv)\n",
    "        nc = np.array(f.n+f.k*1j)  # complex refractive index\n",
    "        self.name = name\n",
    "        self.f = interp1d(wv_raw, nc, kind='cubic')\n",
    "        self.min_wv = min(wv_raw)\n",
    "        self.max_wv = max(wv_raw)\n",
    "        self.df = pd.Series(data=nc, index=wv_raw, name=name)\n",
    "        # self.df = self.df.reindex(wavelengths)\n",
    "        # self.df = self.df.interpolate('spline', order=3)\n",
    "        self.interp(wavelengths)\n",
    "\n",
    "    def interp(self, wavelengths):\n",
    "        wavelengths = wavelengths[np.nonzero(np.logical_and(wavelengths > self.min_wv, wavelengths < self.max_wv))]\n",
    "        nc = self.f(wavelengths)\n",
    "        self.df = pd.DataFrame(nc,wavelengths, [self.name])\n"
   ]
  },
  {
   "cell_type": "code",
   "execution_count": 3,
   "metadata": {
    "collapsed": true
   },
   "outputs": [],
   "source": [
    "class Model:\n",
    "    def __init__(self):\n",
    "        self.wavelength = np.arange(300, 1700, 1)\n",
    "        self.increment = .2\n",
    "        self.index_array = np.array([])\n",
    "        self.materials = []\n",
    "        self.mat_df = pd.DataFrame([], self.wavelength)\n",
    "        self.data = {}\n",
    "        self.layers = []\n",
    "        self.thicknesses = [sp.inf, 0, sp.inf]\n",
    "\n",
    "        self.add_material(\"TCO\", './Materials/Semiconductor/TCO.csv')\n",
    "        self.add_material(\"CdSe\", './Materials/Semiconductor/CdSe.csv')\n",
    "        self.add_material(\"CdTe\", './Materials/Semiconductor/CdTe.csv')\n",
    "        self.add_material(\"Air\", './Materials/Semiconductor/Air.csv')\n",
    "        self.add_material(\"BK7\", './Materials/Dielectric/BK7.csv')\n",
    "        self.add_material(\"SLG\", './Materials/Dielectric/SLG.csv')\n",
    "        self.add_material(\"SS TCO\", './Materials/Dielectric/Sunnyside TCO.csv')\n",
    "        self.add_material(\"SiO2\", './Materials/Dielectric/SiO2-Jaw.csv')\n",
    "        # self.mat_df['BK7/.3 Air'] = self.better_bruggeman(self.mat_df.BK7, self.mat_df.Air, .3)['n']\n",
    "\n",
    "    def add_material(self, film, path):\n",
    "        if film not in self.mat_df:\n",
    "            mat = Data(path, film, self.wavelength)\n",
    "            self.materials.append(mat)\n",
    "            self.mat_df = self.mat_df.join(mat.df)\n",
    "\n",
    "    def set_wavelength(self, low, high, interval):\n",
    "        self.wavelength = np.arange(low, high, interval)\n",
    "        df = self.mat_df.reindex(self.wavelength)\n",
    "        df = df.interpolate('spline', order=3)\n",
    "        self.mat_df = df\n",
    "\n",
    "    def better_bruggeman(self, n1, n2, percent_included):\n",
    "        p = n1/n2\n",
    "        b = .25*((3*percent_included-1)*(1/p-p)+p)\n",
    "        z = b + (b**2 + .5)**0.5\n",
    "        e = z*n1*n2\n",
    "        return {\"e\": e, \"n\": e**0.5, 'conc': percent_included, \"n1\": n1, 'n2': n2}\n",
    "\n",
    "    def brug_transform(self, df, layer, incl, percent):\n",
    "        p = df[layer]/incl\n",
    "        b = .25*((3*percent-1)*(1/p-p)+p)\n",
    "        z = b + (b**2 + .5)**0.5\n",
    "        e = z*df[layer]*incl\n",
    "        n = e**.5\n",
    "        df[layer] = n\n",
    "    \n",
    "    def run(self, wavelengths, void_percent):\n",
    "        mat = self.mat_df.ix[wavelengths]\n",
    "        mat = mat[self.layers]\n",
    "        self.brug_transform(mat, self.layers[1], mat['Air'], void_percent)\n",
    "        self.index_array = np.array(mat)\n",
    "        theta0 = 45*sp.pi/180\n",
    "        self.data = tmm.unpolarized_RT(self.index_array, self.thicknesses, theta0, wavelengths)\n",
    "        \n",
    "    def normalized(a, axis=-1, order=2):\n",
    "        l2 = np.atleast_1d(np.linalg.norm(a, order, axis))\n",
    "        l2[l2==0] = 1\n",
    "        return a / np.expand_dims(l2, axis)\n",
    "    \n",
    "    def get_R(self, wavelengths, thickness, void_percent):\n",
    "        self.thicknesses[1] = thickness\n",
    "        self.run(wavelengths, void_percent) \n",
    "        R = self.data['R']\n",
    "        R -= min(R)\n",
    "        R /= max(R)\n",
    "        return R\n",
    "        \n",
    "    def RMSE(self, thickness, data):\n",
    "        df = pd.DataFrame(data)\n",
    "        self.get_R(thickness)\n",
    "        model = pd.DataFrame(self.data['R'], index=self.wavelength)\n",
    "        df = df.join(model, how='inner')\n",
    "        n = len(df.index)\n",
    "        return (sum((data-model)**2)/n)**0.5\n",
    "        \n",
    "    "
   ]
  },
  {
   "cell_type": "code",
   "execution_count": 4,
   "metadata": {
    "collapsed": false
   },
   "outputs": [],
   "source": [
    "class Compare:\n",
    "    def __init__(self, path, name, wavelengths, c_type):\n",
    "        f = pd.read_csv(path)\n",
    "        wv_raw = np.array(f.wv)\n",
    "        R = np.array(f.R)\n",
    "        self.name = name\n",
    "        self.df = pd.Series()\n",
    "        self.f = interp1d(wv_raw, R, kind='cubic')\n",
    "        self.min_wv = min(wv_raw)\n",
    "        self.max_wv = max(wv_raw)\n",
    "        self.df = pd.Series(data=R, index=wv_raw, name=name)\n",
    "        self.interp(wavelengths)\n",
    "        \n",
    "    def interp(self, wavelengths):\n",
    "        wavelengths = wavelengths[np.nonzero(np.logical_and(wavelengths > self.min_wv, wavelengths < self.max_wv))]\n",
    "        data = self.f(wavelengths)\n",
    "        self.df = pd.Series(data=data, index=wavelengths, name=self.name)\n",
    "    \n",
    "    def normalized(self, a, axis=-1, order=2):\n",
    "        l2 = np.atleast_1d(np.linalg.norm(a, order, axis))\n",
    "        l2[l2==0] = 1\n",
    "        return a / np.expand_dims(l2, axis)\n"
   ]
  },
  {
   "cell_type": "code",
   "execution_count": 5,
   "metadata": {
    "collapsed": false
   },
   "outputs": [],
   "source": [
    "model = Model()"
   ]
  },
  {
   "cell_type": "code",
   "execution_count": 28,
   "metadata": {
    "collapsed": false
   },
   "outputs": [],
   "source": [
    "normal = Compare('C:/WORK!!!!/VF088 - ARC Thickness/Normal-N.csv', 'Data', np.arange(300,1700), 'R')\n",
    "xenon = Compare('C:/WORK!!!!/VF088 - ARC Thickness/Xenon-N.csv', 'Data', np.arange(300,1700), 'R')"
   ]
  },
  {
   "cell_type": "code",
   "execution_count": 6,
   "metadata": {
    "collapsed": true
   },
   "outputs": [],
   "source": [
    "normal = Compare('C:/WORK!!!!/VF088 - ARC Thickness/White Light.csv', 'Data', np.arange(300,1700), 'R')"
   ]
  },
  {
   "cell_type": "code",
   "execution_count": 31,
   "metadata": {
    "collapsed": false
   },
   "outputs": [
    {
     "name": "stdout",
     "output_type": "stream",
     "text": [
      "0.278758164821\n"
     ]
    }
   ],
   "source": [
    "model.layers = ['Air', 'BK7', 'SLG']\n",
    "wv = np.arange(475, 925)\n",
    "normal.df -= normal.df.min()\n",
    "normal.df /= normal.df.max()\n",
    "popt, pcov = so.curve_fit(model.get_R, wv, normal.df[wv], p0=(120, .15))\n",
    "model.thicknesses[1]=popt[0]\n",
    "model.run(wv, popt[1])\n",
    "model.data['R']\n",
    "df = pd.DataFrame()\n",
    "df = df.join(normal.df, how='outer')\n",
    "df = df.join(pd.Series(model.data['R'], index=wv, name='Model'), how='inner')\n",
    "\n",
    "df.Data -= df.Data.min()\n",
    "df.Data /= df.Data.max()\n",
    "df.Model -= df.Model.min()\n",
    "df.Model /= df.Model.max()\n",
    "\n",
    "RMSE = (sp.sum(residuals**2)/(residuals.size-2))**0.5\n",
    "ax = plt.figure().add_subplot(111)\n",
    "ax.text(400, .9, \"RMSE: \"+str(round(RMSE, 3)))\n",
    "line_objects = plt.plot(df.index, df)\n",
    "model_txt = 'Model (' + str(round(popt[0]))+' nm'+' & '+ str(round(popt[1],2)) +' void percent)'\n",
    "plt.legend(line_objects, ('Data', model_txt))\n",
    "plt.show()\n",
    "\n",
    "\n",
    "residuals = df.Model-df.Data\n",
    "\n",
    "print(RMSE)\n"
   ]
  },
  {
   "cell_type": "code",
   "execution_count": 34,
   "metadata": {
    "collapsed": false
   },
   "outputs": [
    {
     "data": {
      "text/plain": [
       "0.041236456821120607"
      ]
     },
     "execution_count": 34,
     "metadata": {},
     "output_type": "execute_result"
    }
   ],
   "source": [
    "model.layers = ['Air', 'BK7', 'SLG']\n",
    "wv = np.arange(380, 700)\n",
    "xenon.df -= xenon.df.min()\n",
    "xenon.df /= xenon.df.max()\n",
    "popt, pcov = so.curve_fit(model.get_R, wv, xenon.df[wv], p0=(120, .3))\n",
    "\n",
    "model.thicknesses[1]=popt[0]\n",
    "model.run(wv, popt[1])\n",
    "model.data['R']\n",
    "df = pd.DataFrame()\n",
    "df = df.join(xenon.df, how='outer')\n",
    "df = df.join(pd.Series(model.data['R'], index=wv, name='Model'), how='inner')\n",
    "\n",
    "df.Data -= df.Data.min()\n",
    "df.Data /= df.Data.max()\n",
    "df.Model -= df.Model.min()\n",
    "df.Model /= df.Model.max()\n",
    "\n",
    "line_objects = plt.plot(df.index, df)\n",
    "model_txt = 'Model (' + str(round(popt[0]))+' nm'+' & '+ str(round(popt[1],2)) +' void percent)'\n",
    "plt.legend(line_objects, ('Data', model_txt))\n",
    "plt.show()\n",
    "(np.mean((df.Data-df.Model)**2))**0.5"
   ]
  },
  {
   "cell_type": "code",
   "execution_count": 44,
   "metadata": {
    "collapsed": false
   },
   "outputs": [],
   "source": [
    "def bruggeman(n1, n2, percent_included):\n",
    "    e1 = n1**2\n",
    "    e2 = n2**2\n",
    "    b = ((3*percent_included-1)*(e2-e1)+e1)/4\n",
    "    e = b + (b + e1*e2/2)**0.5\n",
    "    e_neg = b - (b + e1*e2/2)**0.5\n",
    "    d = {\"e\": e, \"e_neg\": e_neg, \"n\": e**.5, \"n_neg\": e_neg**.5, 'conc':percent_included, \"n1\":n1, 'n2':n2}\n",
    "    return(d)\n",
    "\n",
    "def better_bruggeman(n1, n2, percent_included):\n",
    "    p = n1/n2\n",
    "    b = .25*((3*percent_included-1)*(1/p-p)+p)\n",
    "    z = b + (b**2 + .5)**0.5\n",
    "    e = z*n1*n2\n",
    "    return({\"e\":e, \"n\":e**0.5, 'conc':percent_included, \"n1\":n1, 'n2':n2})\n",
    "\n",
    "def brug_transform(df, layer, incl, percent):\n",
    "    p = df.ix(layer)/incl\n",
    "    b = .25*((3*percent-1)*(1/p-p)+p)\n",
    "    z = b + (b**2 + .5)**0.5\n",
    "    e = z*df[layer]*incl\n",
    "    n = e**.5\n",
    "    df[layer] = n"
   ]
  },
  {
   "cell_type": "code",
   "execution_count": 27,
   "metadata": {
    "collapsed": false,
    "scrolled": false
   },
   "outputs": [
    {
     "ename": "SyntaxError",
     "evalue": "invalid syntax (<ipython-input-27-69c9469497ed>, line 1)",
     "output_type": "error",
     "traceback": [
      "\u001b[1;36m  File \u001b[1;32m\"<ipython-input-27-69c9469497ed>\"\u001b[1;36m, line \u001b[1;32m1\u001b[0m\n\u001b[1;33m    print \"Mean Squared Error: \", np.mean((y-func(x, *popt))**2)\u001b[0m\n\u001b[1;37m                               ^\u001b[0m\n\u001b[1;31mSyntaxError\u001b[0m\u001b[1;31m:\u001b[0m invalid syntax\n"
     ]
    }
   ],
   "source": [
    "print \"Mean Squared Error: \", \n",
    "\n",
    "ss_res = np.dot((yn - func(x, *popt)),(yn - func(x, *popt)))\n",
    "ymean = np.mean(yn)\n",
    "ss_tot = np.dot((yn-ymean),(yn-ymean))\n",
    "print \"Mean R :\",  1-ss_res/ss_tot"
   ]
  },
  {
   "cell_type": "code",
   "execution_count": 31,
   "metadata": {
    "collapsed": false
   },
   "outputs": [
    {
     "ename": "NameError",
     "evalue": "name 'y' is not defined",
     "output_type": "error",
     "traceback": [
      "\u001b[1;31m---------------------------------------------------------------------------\u001b[0m",
      "\u001b[1;31mNameError\u001b[0m                                 Traceback (most recent call last)",
      "\u001b[1;32m<ipython-input-31-42826f2460cf>\u001b[0m in \u001b[0;36m<module>\u001b[1;34m()\u001b[0m\n\u001b[1;32m----> 1\u001b[1;33m \u001b[0mnp\u001b[0m\u001b[1;33m.\u001b[0m\u001b[0mmean\u001b[0m\u001b[1;33m(\u001b[0m\u001b[1;33m(\u001b[0m\u001b[0my\u001b[0m\u001b[1;33m-\u001b[0m\u001b[0mfunc\u001b[0m\u001b[1;33m(\u001b[0m\u001b[0mx\u001b[0m\u001b[1;33m,\u001b[0m \u001b[1;33m*\u001b[0m\u001b[0mpopt\u001b[0m\u001b[1;33m)\u001b[0m\u001b[1;33m)\u001b[0m\u001b[1;33m**\u001b[0m\u001b[1;36m2\u001b[0m\u001b[1;33m)\u001b[0m\u001b[1;33m\u001b[0m\u001b[0m\n\u001b[0m",
      "\u001b[1;31mNameError\u001b[0m: name 'y' is not defined"
     ]
    }
   ],
   "source": [
    "df.'Data'\n",
    "\n",
    "np.mean((y-func(x, *popt))**2)"
   ]
  },
  {
   "cell_type": "code",
   "execution_count": null,
   "metadata": {
    "collapsed": true
   },
   "outputs": [],
   "source": []
  }
 ],
 "metadata": {
  "kernelspec": {
   "display_name": "Python 3",
   "language": "python",
   "name": "python3"
  },
  "language_info": {
   "codemirror_mode": {
    "name": "ipython",
    "version": 3
   },
   "file_extension": ".py",
   "mimetype": "text/x-python",
   "name": "python",
   "nbconvert_exporter": "python",
   "pygments_lexer": "ipython3",
   "version": "3.4.3"
  }
 },
 "nbformat": 4,
 "nbformat_minor": 0
}
