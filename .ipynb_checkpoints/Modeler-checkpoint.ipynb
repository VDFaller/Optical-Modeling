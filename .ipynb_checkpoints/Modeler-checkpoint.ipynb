{
 "cells": [
  {
   "cell_type": "code",
   "execution_count": 1,
   "metadata": {
    "collapsed": false,
    "scrolled": true
   },
   "outputs": [],
   "source": [
    "import pandas as pd\n",
    "import numpy as np\n",
    "import scipy as sp\n",
    "from scipy.interpolate import interp1d\n",
    "import scipy.optimize as so\n",
    "import tmm_core as tmm\n",
    "import lmfit\n",
    "from matplotlib import pyplot as plt"
   ]
  },
  {
   "cell_type": "code",
   "execution_count": 2,
   "metadata": {
    "collapsed": false
   },
   "outputs": [],
   "source": [
    "class Data:\n",
    "    def __init__(self, path, name, wavelengths):\n",
    "        f = pd.read_csv(path)\n",
    "        wv_raw = np.array(f.wv)\n",
    "        nc = np.array(f.n+f.k*1j)  # complex refractive index\n",
    "        self.name = name\n",
    "        self.f = interp1d(wv_raw, nc, kind='cubic')\n",
    "        self.min_wv = min(wv_raw)\n",
    "        self.max_wv = max(wv_raw)\n",
    "        self.df = pd.Series(data=nc, index=wv_raw, name=name)\n",
    "        # self.df = self.df.reindex(wavelengths)\n",
    "        # self.df = self.df.interpolate('spline', order=3)\n",
    "        self.interp(wavelengths)\n",
    "\n",
    "    def interp(self, wavelengths):\n",
    "        wavelengths = wavelengths[np.nonzero(np.logical_and(wavelengths > self.min_wv, wavelengths < self.max_wv))]\n",
    "        nc = self.f(wavelengths)\n",
    "        self.df = pd.DataFrame(nc,wavelengths, [self.name])\n"
   ]
  },
  {
   "cell_type": "code",
   "execution_count": 18,
   "metadata": {
    "collapsed": true
   },
   "outputs": [],
   "source": [
    "class Model:\n",
    "    def __init__(self):\n",
    "        self.wavelength = np.arange(300, 1700, 1)\n",
    "        self.increment = .2\n",
    "        self.index_array = np.array([])\n",
    "        self.materials = []\n",
    "        self.mat_df = pd.DataFrame([], self.wavelength)\n",
    "        self.data = {}\n",
    "        self.layers = []\n",
    "        self.thicknesses = [sp.inf, 0, sp.inf]\n",
    "\n",
    "        self.add_material(\"TCO\", './Materials/Semiconductor/TCO.csv')\n",
    "        self.add_material(\"CdSe\", './Materials/Semiconductor/CdSe.csv')\n",
    "        self.add_material(\"CdTe\", './Materials/Semiconductor/CdTe.csv')\n",
    "        self.add_material(\"Air\", './Materials/Semiconductor/Air.csv')\n",
    "        self.add_material(\"BK7\", './Materials/Dielectric/BK7.csv')\n",
    "        self.add_material(\"SLG\", './Materials/Dielectric/SLG.csv')\n",
    "        self.add_material(\"SS TCO\", './Materials/Dielectric/Sunnyside TCO.csv')\n",
    "        self.add_material(\"SiO2\", './Materials/Dielectric/SiO2-Jaw.csv')\n",
    "        \n",
    "    def add_material(self, film, path):\n",
    "        if film not in self.mat_df:\n",
    "            mat = Data(path, film, self.wavelength)\n",
    "            self.materials.append(mat)\n",
    "            self.mat_df = self.mat_df.join(mat.df)\n",
    "\n",
    "    def set_wavelength(self, low, high, interval):\n",
    "        self.wavelength = np.arange(low, high, interval)\n",
    "        df = self.mat_df.reindex(self.wavelength)\n",
    "        df = df.interpolate('spline', order=3)\n",
    "        self.mat_df = df\n",
    "\n",
    "    def better_bruggeman(self, n1, n2, percent_included):\n",
    "        p = n1/n2\n",
    "        b = .25*((3*percent_included-1)*(1/p-p)+p)\n",
    "        z = b + (b**2 + .5)**0.5\n",
    "        e = z*n1*n2\n",
    "        return {\"e\": e, \"n\": e**0.5, 'conc': percent_included, \"n1\": n1, 'n2': n2}\n",
    "\n",
    "    def brug_transform(self, df, layer, incl, percent):\n",
    "        p = df[layer]/incl\n",
    "        b = .25*((3*percent-1)*(1/p-p)+p)\n",
    "        z = b + (b**2 + .5)**0.5\n",
    "        e = z*df[layer]*incl\n",
    "        n = e**.5\n",
    "        df[layer] = n\n",
    "    \n",
    "    def run(self, wavelengths, void_percent):\n",
    "        mat = self.mat_df.ix[wavelengths]\n",
    "        mat = mat[self.layers]\n",
    "        self.brug_transform(mat, self.layers[1], mat['Air'], void_percent)\n",
    "        self.index_array = np.array(mat)\n",
    "        theta0 = 45*sp.pi/180\n",
    "        self.data = tmm.unpolarized_RT(self.index_array, self.thicknesses, theta0, wavelengths)\n",
    "        \n",
    "    def normalized(a, axis=-1, order=2):\n",
    "        l2 = np.atleast_1d(np.linalg.norm(a, order, axis))\n",
    "        l2[l2==0] = 1\n",
    "        return a / np.expand_dims(l2, axis)\n",
    "    \n",
    "    def get_R(self, wavelengths, thickness, void_percent):\n",
    "        self.thicknesses[1] = thickness\n",
    "        self.run(wavelengths, void_percent) \n",
    "        R = self.data['R']\n",
    "        R -= min(R)\n",
    "        R /= max(R)\n",
    "        return R\n",
    "        \n",
    "    def RMSE(self, thickness, data):\n",
    "        df = pd.DataFrame(data)\n",
    "        self.get_R(thickness)\n",
    "        model = pd.DataFrame(self.data['R'], index=self.wavelength)\n",
    "        df = df.join(model, how='inner')\n",
    "        n = len(df.index)\n",
    "        return (sum((data-model)**2)/n)**0.5\n",
    "    \n",
    "    def norm(self, wavelength):\n",
    "        df = self.df.ix[wavelength]\n",
    "        df = df - df.min()\n",
    "        df = df / df.max()\n",
    "        return df\n",
    "    "
   ]
  },
  {
   "cell_type": "code",
   "execution_count": 19,
   "metadata": {
    "collapsed": false
   },
   "outputs": [],
   "source": [
    "class Compare:\n",
    "    def __init__(self, path, name, wavelengths, c_type):\n",
    "        f = pd.read_csv(path)\n",
    "        wv_raw = np.array(f.wv)\n",
    "        R = np.array(f.R)\n",
    "        self.name = name\n",
    "        self.df = pd.Series()\n",
    "        self.f = interp1d(wv_raw, R, kind='cubic')\n",
    "        self.min_wv = min(wv_raw)\n",
    "        self.max_wv = max(wv_raw)\n",
    "        self.df = pd.Series(data=R, index=wv_raw, name=name)\n",
    "        self.interp(wavelengths)\n",
    "        \n",
    "    def interp(self, wavelengths):\n",
    "        wavelengths = wavelengths[np.nonzero(np.logical_and(wavelengths > self.min_wv, wavelengths < self.max_wv))]\n",
    "        data = self.f(wavelengths)\n",
    "        self.df = pd.Series(data=data, index=wavelengths, name=self.name)\n",
    "    \n",
    "    def norm(self, wavelength):\n",
    "        df = self.df.ix[wavelength]\n",
    "        df = df - df.min()\n",
    "        df = df / df.max()\n",
    "        return df"
   ]
  },
  {
   "cell_type": "code",
   "execution_count": 20,
   "metadata": {
    "collapsed": false
   },
   "outputs": [],
   "source": [
    "model = Model()"
   ]
  },
  {
   "cell_type": "code",
   "execution_count": 44,
   "metadata": {
    "collapsed": false
   },
   "outputs": [],
   "source": [
    "normal = Compare('C:/WORK!!!!/VF088 - ARC Thickness/Normal-N.csv', 'Data', np.arange(300,1700), 'R')"
   ]
  },
  {
   "cell_type": "code",
   "execution_count": 61,
   "metadata": {
    "collapsed": true
   },
   "outputs": [],
   "source": [
    "xenon = Compare('C:/WORK!!!!/VF088 - ARC Thickness/Xenon-N.csv', 'Data', np.arange(300,1700), 'R')"
   ]
  },
  {
   "cell_type": "code",
   "execution_count": 50,
   "metadata": {
    "collapsed": true
   },
   "outputs": [],
   "source": [
    "normal = Compare('C:/WORK!!!!/VF088 - ARC Thickness/White Light.csv', 'Data', np.arange(300,1700), 'R')"
   ]
  },
  {
   "cell_type": "code",
   "execution_count": 54,
   "metadata": {
    "collapsed": true
   },
   "outputs": [],
   "source": [
    "xenon = Compare('C:/WORK!!!!/VF088 - ARC Thickness/XLS.csv', 'Data', np.arange(300,1700), 'R')"
   ]
  },
  {
   "cell_type": "code",
   "execution_count": 53,
   "metadata": {
    "collapsed": false
   },
   "outputs": [],
   "source": [
    "model.layers = ['Air', 'BK7', 'SLG']\n",
    "wv = np.arange(475, 925)\n",
    "#normal.df -= normal.df.min()\n",
    "#normal.df /= normal.df.max()\n",
    "data = normal.norm(wv)\n",
    "popt, pcov = so.curve_fit(model.get_R, wv, data, p0=(150, .3))\n",
    "model.thicknesses[1]=popt[0]\n",
    "model.run(wv, popt[1])\n",
    "model.data['R']\n",
    "df = pd.DataFrame()\n",
    "df = df.join(normal.df, how='outer')\n",
    "df = df.join(pd.Series(model.data['R'], index=wv, name='Model'), how='inner')\n",
    "\n",
    "df.Data -= df.Data.min()\n",
    "df.Data /= df.Data.max()\n",
    "df.Model -= df.Model.min()\n",
    "df.Model /= df.Model.max()\n",
    "\n",
    "residuals = df.Model-df.Data\n",
    "RMSE = (sp.sum(residuals**2)/(residuals.size-2))**0.5\n",
    "ax = plt.figure().add_subplot(111)\n",
    "ax.text(400, .7, \"RMSE: \"+str(round(RMSE, 3)))\n",
    "line_objects = plt.plot(df.index, df)\n",
    "model_txt = 'Model (' + str(round(popt[0]))+' nm'+' & '+ str(round(popt[1],2)) +' void percent)'\n",
    "plt.legend(line_objects, ('Data', model_txt))\n",
    "plt.show()\n"
   ]
  },
  {
   "cell_type": "code",
   "execution_count": 64,
   "metadata": {
    "collapsed": false
   },
   "outputs": [],
   "source": [
    "model.layers = ['Air', 'BK7', 'SLG']\n",
    "wv = np.arange(350, 900)\n",
    "data = xenon.norm(wv)\n",
    "popt, pcov = so.curve_fit(model.get_R, wv, data, p0=(150, .3))\n",
    "\n",
    "model.thicknesses[1]=popt[0]\n",
    "model.run(wv, popt[1])\n",
    "model.data['R']\n",
    "df = pd.DataFrame()\n",
    "df = df.join(xenon.df, how='outer')\n",
    "df = df.join(pd.Series(model.data['R'], index=wv, name='Model'), how='inner')\n",
    "\n",
    "df.Data -= df.Data.min()\n",
    "df.Data /= df.Data.max()\n",
    "df.Model -= df.Model.min()\n",
    "df.Model /= df.Model.max()\n",
    "\n",
    "residuals = df.Model-df.Data\n",
    "RMSE = (sp.sum(residuals**2)/(residuals.size-2))**0.5\n",
    "ax = plt.figure().add_subplot(111)\n",
    "ax.text(400, .7, \"RMSE: \"+str(round(RMSE, 3)))\n",
    "line_objects = plt.plot(df.index, df)\n",
    "model_txt = 'Model (' + str(round(popt[0]))+' nm'+' & '+ str(round(popt[1],2)) +' void percent)'\n",
    "plt.legend(line_objects, ('Data', model_txt))\n",
    "plt.show()"
   ]
  },
  {
   "cell_type": "code",
   "execution_count": 44,
   "metadata": {
    "collapsed": false
   },
   "outputs": [],
   "source": [
    "def bruggeman(n1, n2, percent_included):\n",
    "    e1 = n1**2\n",
    "    e2 = n2**2\n",
    "    b = ((3*percent_included-1)*(e2-e1)+e1)/4\n",
    "    e = b + (b + e1*e2/2)**0.5\n",
    "    e_neg = b - (b + e1*e2/2)**0.5\n",
    "    d = {\"e\": e, \"e_neg\": e_neg, \"n\": e**.5, \"n_neg\": e_neg**.5, 'conc':percent_included, \"n1\":n1, 'n2':n2}\n",
    "    return(d)\n",
    "\n",
    "def better_bruggeman(n1, n2, percent_included):\n",
    "    p = n1/n2\n",
    "    b = .25*((3*percent_included-1)*(1/p-p)+p)\n",
    "    z = b + (b**2 + .5)**0.5\n",
    "    e = z*n1*n2\n",
    "    return({\"e\":e, \"n\":e**0.5, 'conc':percent_included, \"n1\":n1, 'n2':n2})\n",
    "\n",
    "def brug_transform(df, layer, incl, percent):\n",
    "    p = df.ix(layer)/incl\n",
    "    b = .25*((3*percent-1)*(1/p-p)+p)\n",
    "    z = b + (b**2 + .5)**0.5\n",
    "    e = z*df[layer]*incl\n",
    "    n = e**.5\n",
    "    df[layer] = n"
   ]
  },
  {
   "cell_type": "code",
   "execution_count": 42,
   "metadata": {
    "collapsed": false,
    "scrolled": false
   },
   "outputs": [
    {
     "data": {
      "text/plain": [
       "342    0.852267\n",
       "343    0.852267\n",
       "344    0.852267\n",
       "345    0.852267\n",
       "346    0.852267\n",
       "347    0.852267\n",
       "348    0.852267\n",
       "349    0.852267\n",
       "350    0.852267\n",
       "351    0.852267\n",
       "352    0.852267\n",
       "353    0.852267\n",
       "354    0.852267\n",
       "355    0.852267\n",
       "356    0.852267\n",
       "357    0.852267\n",
       "358    0.852267\n",
       "359    0.852267\n",
       "360    0.852267\n",
       "361    0.852267\n",
       "362    0.852267\n",
       "363    0.852267\n",
       "364    0.852267\n",
       "365    0.852267\n",
       "366    0.852267\n",
       "367    0.852267\n",
       "368    0.852267\n",
       "369    0.852267\n",
       "370    0.852267\n",
       "371    0.852267\n",
       "         ...   \n",
       "903    0.082527\n",
       "904    0.082527\n",
       "905    0.082527\n",
       "906    0.082527\n",
       "907    0.082527\n",
       "908    0.082527\n",
       "909    0.082527\n",
       "910    0.082527\n",
       "911    0.082527\n",
       "912    0.082527\n",
       "913    0.082527\n",
       "914    0.082527\n",
       "915    0.082527\n",
       "916    0.082527\n",
       "917    0.082527\n",
       "918    0.082527\n",
       "919    0.082527\n",
       "920    0.082527\n",
       "921    0.082527\n",
       "922    0.082527\n",
       "923    0.082527\n",
       "924    0.082527\n",
       "925    0.082527\n",
       "926    0.082527\n",
       "927    0.082527\n",
       "928    0.082527\n",
       "929    0.082527\n",
       "930    0.082527\n",
       "931    0.082527\n",
       "932    0.082527\n",
       "Name: Data, dtype: float64"
      ]
     },
     "execution_count": 42,
     "metadata": {},
     "output_type": "execute_result"
    }
   ],
   "source": [
    "xenon.df"
   ]
  },
  {
   "cell_type": "code",
   "execution_count": 29,
   "metadata": {
    "collapsed": false
   },
   "outputs": [
    {
     "data": {
      "text/plain": [
       "446    0.801933\n",
       "447    0.948847\n",
       "448    0.990511\n",
       "449    0.910680\n",
       "450    0.906917\n",
       "451    0.923930\n",
       "452    0.936474\n",
       "453    0.887744\n",
       "454    0.826238\n",
       "455    0.799834\n",
       "456    0.772007\n",
       "457    0.751082\n",
       "458    0.722886\n",
       "459    0.692690\n",
       "460    0.696850\n",
       "461    0.716204\n",
       "462    0.725672\n",
       "463    0.741436\n",
       "464    0.733580\n",
       "465    0.682069\n",
       "466    0.660625\n",
       "467    0.683119\n",
       "468    0.695141\n",
       "469    0.664994\n",
       "470    0.613097\n",
       "471    0.600668\n",
       "472    0.615851\n",
       "473    0.621047\n",
       "474    0.593760\n",
       "475    0.561986\n",
       "         ...   \n",
       "924    0.560612\n",
       "925    0.560699\n",
       "926    0.561365\n",
       "927    0.562194\n",
       "928    0.562492\n",
       "929    0.562151\n",
       "930    0.561804\n",
       "931    0.562138\n",
       "932    0.562392\n",
       "933    0.561094\n",
       "934    0.558690\n",
       "935    0.556712\n",
       "936    0.556890\n",
       "937    0.557176\n",
       "938    0.556537\n",
       "939    0.556246\n",
       "940    0.559606\n",
       "941    0.564922\n",
       "942    0.569290\n",
       "943    0.572266\n",
       "944    0.576742\n",
       "945    0.582938\n",
       "946    0.587335\n",
       "947    0.589174\n",
       "948    0.590497\n",
       "949    0.591861\n",
       "950    0.594035\n",
       "951    0.595377\n",
       "952    0.595016\n",
       "953    0.595313\n",
       "Name: Data, dtype: float64"
      ]
     },
     "execution_count": 29,
     "metadata": {},
     "output_type": "execute_result"
    }
   ],
   "source": [
    "normal.df"
   ]
  },
  {
   "cell_type": "code",
   "execution_count": null,
   "metadata": {
    "collapsed": true
   },
   "outputs": [],
   "source": []
  }
 ],
 "metadata": {
  "kernelspec": {
   "display_name": "Python 3",
   "language": "python",
   "name": "python3"
  },
  "language_info": {
   "codemirror_mode": {
    "name": "ipython",
    "version": 3
   },
   "file_extension": ".py",
   "mimetype": "text/x-python",
   "name": "python",
   "nbconvert_exporter": "python",
   "pygments_lexer": "ipython3",
   "version": "3.4.3"
  }
 },
 "nbformat": 4,
 "nbformat_minor": 0
}
