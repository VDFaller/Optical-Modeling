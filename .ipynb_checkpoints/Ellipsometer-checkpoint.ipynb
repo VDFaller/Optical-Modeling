{
 "cells": [
  {
   "cell_type": "code",
   "execution_count": 177,
   "metadata": {
    "collapsed": true
   },
   "outputs": [],
   "source": [
    "import numpy as np\n",
    "def JtM(Jones):\n",
    "    A = 1/np.sqrt(2)*np.mat([[1, 0, 0, 1], [1, 0, 0, -1], [0, 1, 1, 0], [0, 1j, -1j, 0]])\n",
    "    kron = np.kron(Jones, np.conj(Jones))\n",
    "    M = A * kron * A.H\n",
    "    \n",
    "    return M.real\n",
    "\n",
    "linear_h = np.mat([[1, 0], [0, 0]])\n",
    "linear_v = np.mat([[0, 0], [0, 1]])\n",
    "linear_p45 = .5 * np.mat([[1, 1], [1, 1]])\n",
    "linear_n45 = .5 * np.mat([[1, -1], [-1, 1]])\n",
    "rcp = .5 * np.mat([[1, 1j], [-1j, 1]])\n",
    "lcp = .5 * np.mat([[1, -1j], [1j, 1]])\n",
    "\n",
    "qwp_v = np.exp(1j*np.pi/4)*np.mat([[1, 0], [0, -1j]])\n",
    "qwp_h = np.exp(1j*np.pi/4)*np.mat([[1, 0], [0, 1j]])"
   ]
  },
  {
   "cell_type": "code",
   "execution_count": 178,
   "metadata": {
    "collapsed": false
   },
   "outputs": [
    {
     "data": {
      "text/plain": [
       "matrix([[ 1.,  0.,  0.,  0.],\n",
       "        [ 0.,  1.,  0.,  0.],\n",
       "        [ 0.,  0.,  0.,  1.],\n",
       "        [ 0.,  0., -1.,  0.]])"
      ]
     },
     "execution_count": 178,
     "metadata": {},
     "output_type": "execute_result"
    }
   ],
   "source": [
    "JtM(qwp_v)"
   ]
  },
  {
   "cell_type": "code",
   "execution_count": 163,
   "metadata": {
    "collapsed": false
   },
   "outputs": [
    {
     "data": {
      "text/plain": [
       "matrix([[ 0.70710678+0.j        ,  0.00000000+0.j        ,\n",
       "          0.00000000+0.j        ,  0.70710678+0.j        ],\n",
       "        [ 0.70710678-0.j        , -0.00000000+0.j        ,\n",
       "         -0.00000000+0.j        , -0.70710678+0.j        ],\n",
       "        [ 0.00000000+0.j        ,  0.70710678+0.j        ,\n",
       "          0.70710678+0.j        ,  0.00000000+0.j        ],\n",
       "        [ 0.00000000+0.j        ,  0.00000000+0.70710678j,\n",
       "         -0.00000000-0.70710678j,  0.00000000+0.j        ]])"
      ]
     },
     "execution_count": 163,
     "metadata": {},
     "output_type": "execute_result"
    }
   ],
   "source": []
  },
  {
   "cell_type": "code",
   "execution_count": 141,
   "metadata": {
    "collapsed": false
   },
   "outputs": [
    {
     "data": {
      "text/plain": [
       "matrix([[ 0.5+0.j,  0.0+0.j,  0.0+0.j,  0.5+0.j],\n",
       "        [ 0.0+0.j,  0.0+0.j,  0.0+0.j,  0.0+0.j],\n",
       "        [ 0.0+0.j,  0.0+0.j,  0.0+0.j,  0.0+0.j],\n",
       "        [ 0.5+0.j,  0.0+0.j,  0.0+0.j,  0.5+0.j]])"
      ]
     },
     "execution_count": 141,
     "metadata": {},
     "output_type": "execute_result"
    }
   ],
   "source": [
    "A = 1/np.sqrt(2) * np.mat([[1, 0, 0, 1], \n",
    "            [1, 0, 0, -1], \n",
    "            [0, 1, 1, 0], \n",
    "            [0, 1j, -1j, 0]])\n",
    "kron = np.kron(lcp, np.conj(lcp))\n",
    "mat = A * kron * np.linalg.pinv(A)\n",
    "mat.round(1)"
   ]
  },
  {
   "cell_type": "code",
   "execution_count": 121,
   "metadata": {
    "collapsed": false
   },
   "outputs": [
    {
     "data": {
      "text/plain": [
       "matrix([[ True,  True,  True,  True],\n",
       "        [ True,  True,  True,  True],\n",
       "        [ True,  True,  True,  True],\n",
       "        [ True,  True,  True,  True]], dtype=bool)"
      ]
     },
     "execution_count": 121,
     "metadata": {},
     "output_type": "execute_result"
    }
   ],
   "source": [
    "A."
   ]
  },
  {
   "cell_type": "code",
   "execution_count": 125,
   "metadata": {
    "collapsed": false
   },
   "outputs": [
    {
     "data": {
      "text/plain": [
       "matrix([[ 0.70710678+0.j        ,  0.70710678+0.j        ,\n",
       "          0.00000000+0.j        ,  0.00000000+0.j        ],\n",
       "        [ 0.00000000+0.j        ,  0.00000000+0.j        ,\n",
       "          0.70710678+0.j        ,  0.00000000-0.70710678j],\n",
       "        [ 0.00000000+0.j        ,  0.00000000+0.j        ,\n",
       "          0.70710678+0.j        ,  0.00000000+0.70710678j],\n",
       "        [ 0.70710678+0.j        , -0.70710678-0.j        ,\n",
       "          0.00000000-0.j        ,  0.00000000-0.j        ]])"
      ]
     },
     "execution_count": 125,
     "metadata": {},
     "output_type": "execute_result"
    }
   ],
   "source": [
    "A.I"
   ]
  },
  {
   "cell_type": "code",
   "execution_count": null,
   "metadata": {
    "collapsed": true
   },
   "outputs": [],
   "source": []
  }
 ],
 "metadata": {
  "kernelspec": {
   "display_name": "Python 3",
   "language": "python",
   "name": "python3"
  },
  "language_info": {
   "codemirror_mode": {
    "name": "ipython",
    "version": 3
   },
   "file_extension": ".py",
   "mimetype": "text/x-python",
   "name": "python",
   "nbconvert_exporter": "python",
   "pygments_lexer": "ipython3",
   "version": "3.4.3"
  }
 },
 "nbformat": 4,
 "nbformat_minor": 0
}
