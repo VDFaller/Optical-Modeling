{
 "cells": [
  {
   "cell_type": "code",
   "execution_count": 1,
   "metadata": {
    "collapsed": true
   },
   "outputs": [],
   "source": [
    "import tmm_core as tmm_faller\n",
    "import tmm\n",
    "import pandas as pd\n",
    "import numpy as np\n",
    "import scipy as sp\n",
    "from scipy.interpolate import interp1d\n",
    "import matplotlib.pyplot as plt"
   ]
  },
  {
   "cell_type": "code",
   "execution_count": 2,
   "metadata": {
    "collapsed": true
   },
   "outputs": [],
   "source": [
    "class Material:\n",
    "    def __init__(self, path, name, wavelengths):\n",
    "        f = pd.read_csv(path)\n",
    "        wv_raw = np.array(f.wv)\n",
    "        nc = np.array(f.n+f.k*1j)  # complex refractive index\n",
    "        self.name = name\n",
    "        self.f = interp1d(wv_raw, nc, kind='cubic')\n",
    "        self.min_wv = min(wv_raw)\n",
    "        self.max_wv = max(wv_raw)\n",
    "        self.df = pd.DataFrame(nc, wv_raw, [name])\n",
    "        # self.df = self.df.reindex(wavelengths)\n",
    "        # self.df = self.df.interpolate('spline', order=3)\n",
    "        self.interp(wavelengths)\n",
    "\n",
    "    def interp(self, wavelengths):\n",
    "        wavelengths = wavelengths[np.nonzero(np.logical_and(wavelengths > self.min_wv, wavelengths < self.max_wv))]\n",
    "        nc = self.f(wavelengths)\n",
    "        self.df = pd.DataFrame(nc,wavelengths, [self.name])"
   ]
  },
  {
   "cell_type": "code",
   "execution_count": 26,
   "metadata": {
    "collapsed": false
   },
   "outputs": [],
   "source": [
    "TCO = Material(\".\\Materials\\Semiconductor\\TCO.csv\", \"TCO\", np.arange(300,1700))\n",
    "Air = Material(\".\\Materials\\Semiconductor\\Air.csv\", \"Air\", np.arange(300,1700))\n",
    "CdSe = Material(\".\\Materials\\Semiconductor\\CdSe.csv\", \"CdSe\", np.arange(300,1700))\n",
    "CdTe = Material(\".\\Materials\\Semiconductor\\CdTe.csv\", \"CdTe\", np.arange(300,1700))\n",
    "\n",
    "materials = pd.DataFrame()\n",
    "materials = materials.join([TCO.df, Air.df, CdSe.df, CdTe.df], how='outer')\n",
    "\n",
    "#df.apply(tmm.coh_tmm, axis=1,args=(('p', [sp.inf,thickness,sp.inf], 0 , df.index)))\n",
    "#thickness=0\n",
    "#df.apply(tmm.list_snell,axis=1, args=(thickness,))\n",
    "theta = 14\n",
    "k = df.divide(np.array(df.index),axis=0)*2*sp.pi*sp.sin(theta*sp.pi/180)"
   ]
  },
  {
   "cell_type": "code",
   "execution_count": 35,
   "metadata": {
    "collapsed": false
   },
   "outputs": [],
   "source": [
    "df = materials[['Air', 'CdTe', 'TCO']]\n",
    "ns = pd.Series(np.array(df).tolist(), index=df.index, name='n_list')\n",
    "final = pd.DataFrame(index=df.index)\n",
    "final=final.join(ns)"
   ]
  },
  {
   "cell_type": "code",
   "execution_count": 4,
   "metadata": {
    "collapsed": false
   },
   "outputs": [],
   "source": [
    "\n"
   ]
  },
  {
   "cell_type": "code",
   "execution_count": 5,
   "metadata": {
    "collapsed": false
   },
   "outputs": [],
   "source": []
  },
  {
   "cell_type": "code",
   "execution_count": 48,
   "metadata": {
    "collapsed": false
   },
   "outputs": [
    {
     "data": {
      "text/plain": [
       "<class 'pandas.core.panel.Panel'>\n",
       "Dimensions: 3 (items) x 1389 (major_axis) x 5 (minor_axis)\n",
       "Items axis: 0 to 30\n",
       "Major_axis axis: 300 to 1688\n",
       "Minor_axis axis: R to kz_list"
      ]
     },
     "execution_count": 48,
     "metadata": {},
     "output_type": "execute_result"
    }
   ],
   "source": [
    "dd = {}\n",
    "thetas = [0, 15, 30]\n",
    "for theta in thetas:\n",
    "    data = tmm_faller.coh_tmm('p', np.array(df) , [sp.inf,1000,sp.inf], theta*sp.pi/180 , np.array(df.index))\n",
    "    final = pd.DataFrame(data=np.array([data['R'], data['T'], data['r'], data['t']]).T, index=data['lam_vac'], columns=['R', 'T', 'r', 't'])\n",
    "    final = final.join(pd.Series(np.array(data['kz_list']).tolist(), index=df.index, name='kz_list'))\n",
    "    dd[theta] = final\n",
    "    \n",
    "p = pd.Panel(dd)\n",
    "p"
   ]
  },
  {
   "cell_type": "code",
   "execution_count": 94,
   "metadata": {
    "collapsed": false
   },
   "outputs": [
    {
     "data": {
      "text/plain": [
       "6.411600958072278e-26"
      ]
     },
     "execution_count": 94,
     "metadata": {},
     "output_type": "execute_result"
    }
   ],
   "source": [
    "import math\n",
    "def alpha(n, lamb, s):\n",
    "    return math.exp(-2*(s*n/lamb)**2)\n",
    "    \n",
    "\n",
    "d = 1000\n",
    "s = 2*sp.pi*d\n",
    "\n",
    "alpha(3,3500,s)\n"
   ]
  },
  {
   "cell_type": "code",
   "execution_count": null,
   "metadata": {
    "collapsed": true
   },
   "outputs": [],
   "source": [
    "n_list = np.array(materials.loc[[1050], ['Air', 'CdTe', 'TCO']])[0]\n",
    "df = pd.Series(name=\"R\")\n",
    "for thickness in range(1000):\n",
    "    r = tmm.coh_tmm('p', n_list , [sp.inf,thickness,sp.inf],0 , 1050)['R']\n",
    "    df = df.set_value(thickness, r)\n",
    "plt.plot(df.index, df.values)\n",
    "plt.xlabel(\"Thickness (nm)\")\n",
    "plt.ylabel(\"R\")\n",
    "plt.show()"
   ]
  }
 ],
 "metadata": {
  "kernelspec": {
   "display_name": "Python 3",
   "language": "python",
   "name": "python3"
  },
  "language_info": {
   "codemirror_mode": {
    "name": "ipython",
    "version": 3
   },
   "file_extension": ".py",
   "mimetype": "text/x-python",
   "name": "python",
   "nbconvert_exporter": "python",
   "pygments_lexer": "ipython3",
   "version": "3.4.3"
  }
 },
 "nbformat": 4,
 "nbformat_minor": 0
}
